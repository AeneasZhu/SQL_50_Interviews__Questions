{
 "cells": [
  {
   "cell_type": "markdown",
   "metadata": {},
   "source": [
    "# 创建sqlilte数据库\n",
    "\n",
    "<font size=4>\n",
    "cmd输入命令:\n",
    "    \n",
    "```cmd\n",
    "sqlite3 db-name\n",
    "```\n",
    "    \n",
    "然后输入:\n",
    "```cmd\n",
    ".database\n",
    "```\n",
    "<font>"
   ]
  },
  {
   "cell_type": "markdown",
   "metadata": {},
   "source": [
    "![](SQL-logic.jpg)"
   ]
  },
  {
   "cell_type": "code",
   "execution_count": 1,
   "metadata": {},
   "outputs": [],
   "source": [
    "%load_ext sql"
   ]
  },
  {
   "cell_type": "code",
   "execution_count": 2,
   "metadata": {},
   "outputs": [
    {
     "data": {
      "text/plain": [
       "'Connected: @sql50.db'"
      ]
     },
     "execution_count": 2,
     "metadata": {},
     "output_type": "execute_result"
    }
   ],
   "source": [
    "%sql sqlite:///sql50.db"
   ]
  },
  {
   "cell_type": "code",
   "execution_count": 5,
   "metadata": {},
   "outputs": [
    {
     "name": "stdout",
     "output_type": "stream",
     "text": [
      "Done.\n"
     ]
    },
    {
     "data": {
      "text/plain": [
       "[]"
      ]
     },
     "execution_count": 5,
     "metadata": {},
     "output_type": "execute_result"
    }
   ],
   "source": [
    "%%sql sqlite://\n",
    "\n",
    "CREATE TABLE `Student`(\n",
    "`s_id` VARCHAR(20),\n",
    "`s_name` VARCHAR(20) NOT NULL DEFAULT '',\n",
    "`s_birth` VARCHAR(20) NOT NULL DEFAULT '',\n",
    "`s_sex` VARCHAR(10) NOT NULL DEFAULT '',\n",
    "PRIMARY KEY(`s_id`)\n",
    ");"
   ]
  },
  {
   "cell_type": "code",
   "execution_count": 7,
   "metadata": {},
   "outputs": [
    {
     "name": "stdout",
     "output_type": "stream",
     "text": [
      "Done.\n"
     ]
    },
    {
     "data": {
      "text/plain": [
       "[]"
      ]
     },
     "execution_count": 7,
     "metadata": {},
     "output_type": "execute_result"
    }
   ],
   "source": [
    "%%sql sqlite://\n",
    "\n",
    "CREATE TABLE `Course`(\n",
    "`c_id` VARCHAR(20),\n",
    "`c_name` VARCHAR(20) NOT NULL DEFAULT '',\n",
    "`t_id` VARCHAR(20) NOT NULL,\n",
    "PRIMARY KEY(`c_id`)\n",
    ");"
   ]
  },
  {
   "cell_type": "code",
   "execution_count": 8,
   "metadata": {},
   "outputs": [
    {
     "name": "stdout",
     "output_type": "stream",
     "text": [
      "Done.\n"
     ]
    },
    {
     "data": {
      "text/plain": [
       "[]"
      ]
     },
     "execution_count": 8,
     "metadata": {},
     "output_type": "execute_result"
    }
   ],
   "source": [
    "%%sql sqlite://\n",
    "\n",
    "CREATE TABLE `Teacher`(\n",
    "`t_id` VARCHAR(20),\n",
    "`t_name` VARCHAR(20) NOT NULL DEFAULT '',\n",
    "PRIMARY KEY(`t_id`)\n",
    ");"
   ]
  },
  {
   "cell_type": "code",
   "execution_count": 9,
   "metadata": {},
   "outputs": [
    {
     "name": "stdout",
     "output_type": "stream",
     "text": [
      "Done.\n"
     ]
    },
    {
     "data": {
      "text/plain": [
       "[]"
      ]
     },
     "execution_count": 9,
     "metadata": {},
     "output_type": "execute_result"
    }
   ],
   "source": [
    "%%sql sqlite://\n",
    "    \n",
    "CREATE TABLE `Score`(\n",
    "`s_id` VARCHAR(20),\n",
    "`c_id` VARCHAR(20),\n",
    "`s_score` INT(3),\n",
    "PRIMARY KEY(`s_id`,`c_id`)\n",
    ");"
   ]
  },
  {
   "cell_type": "code",
   "execution_count": 10,
   "metadata": {},
   "outputs": [
    {
     "name": "stdout",
     "output_type": "stream",
     "text": [
      "1 rows affected.\n",
      "1 rows affected.\n",
      "1 rows affected.\n",
      "1 rows affected.\n",
      "1 rows affected.\n",
      "1 rows affected.\n",
      "1 rows affected.\n",
      "1 rows affected.\n",
      "1 rows affected.\n",
      "1 rows affected.\n",
      "1 rows affected.\n",
      "1 rows affected.\n",
      "1 rows affected.\n",
      "1 rows affected.\n",
      "1 rows affected.\n",
      "1 rows affected.\n",
      "1 rows affected.\n",
      "1 rows affected.\n",
      "1 rows affected.\n",
      "1 rows affected.\n",
      "1 rows affected.\n",
      "1 rows affected.\n",
      "1 rows affected.\n",
      "1 rows affected.\n",
      "1 rows affected.\n",
      "1 rows affected.\n",
      "1 rows affected.\n",
      "1 rows affected.\n",
      "1 rows affected.\n",
      "1 rows affected.\n",
      "1 rows affected.\n",
      "1 rows affected.\n"
     ]
    },
    {
     "data": {
      "text/plain": [
       "[]"
      ]
     },
     "execution_count": 10,
     "metadata": {},
     "output_type": "execute_result"
    }
   ],
   "source": [
    "%%sql sqlite://\n",
    "\n",
    "insert into Student values('01' , '赵雷' , '1990-01-01' , '男');\n",
    "insert into Student values('02' , '钱电' , '1990-12-21' , '男');\n",
    "insert into Student values('03' , '孙风' , '1990-05-20' , '男');\n",
    "insert into Student values('04' , '李云' , '1990-08-06' , '男');\n",
    "insert into Student values('05' , '周梅' , '1991-12-01' , '女');\n",
    "insert into Student values('06' , '吴兰' , '1992-03-01' , '女');\n",
    "insert into Student values('07' , '郑竹' , '1989-07-01' , '女');\n",
    "insert into Student values('08' , '王菊' , '1990-01-20' , '女');\n",
    "\n",
    "insert into Course values('01' , '语文' , '02');\n",
    "insert into Course values('02' , '数学' , '01');\n",
    "insert into Course values('03' , '英语' , '03');\n",
    "\n",
    "insert into Teacher values('01' , '张三');\n",
    "insert into Teacher values('02' , '李四');\n",
    "insert into Teacher values('03' , '王五');\n",
    "\n",
    "insert into Score values('01' , '01' , 80);\n",
    "insert into Score values('01' , '02' , 90);\n",
    "insert into Score values('01' , '03' , 99);\n",
    "insert into Score values('02' , '01' , 70);\n",
    "insert into Score values('02' , '02' , 60);\n",
    "insert into Score values('02' , '03' , 80);\n",
    "insert into Score values('03' , '01' , 80);\n",
    "insert into Score values('03' , '02' , 80);\n",
    "insert into Score values('03' , '03' , 80);\n",
    "insert into Score values('04' , '01' , 50);\n",
    "insert into Score values('04' , '02' , 30);\n",
    "insert into Score values('04' , '03' , 20);\n",
    "insert into Score values('05' , '01' , 76);\n",
    "insert into Score values('05' , '02' , 87);\n",
    "insert into Score values('06' , '01' , 31);\n",
    "insert into Score values('06' , '03' , 34);\n",
    "insert into Score values('07' , '02' , 89);\n",
    "insert into Score values('07' , '03' , 98);"
   ]
  },
  {
   "cell_type": "code",
   "execution_count": 11,
   "metadata": {},
   "outputs": [
    {
     "name": "stdout",
     "output_type": "stream",
     "text": [
      "Done.\n"
     ]
    },
    {
     "data": {
      "text/html": [
       "<table>\n",
       "    <tr>\n",
       "        <th>s_id</th>\n",
       "        <th>s_name</th>\n",
       "        <th>s_birth</th>\n",
       "        <th>s_sex</th>\n",
       "    </tr>\n",
       "    <tr>\n",
       "        <td>01</td>\n",
       "        <td>赵雷</td>\n",
       "        <td>1990-01-01</td>\n",
       "        <td>男</td>\n",
       "    </tr>\n",
       "    <tr>\n",
       "        <td>02</td>\n",
       "        <td>钱电</td>\n",
       "        <td>1990-12-21</td>\n",
       "        <td>男</td>\n",
       "    </tr>\n",
       "    <tr>\n",
       "        <td>03</td>\n",
       "        <td>孙风</td>\n",
       "        <td>1990-05-20</td>\n",
       "        <td>男</td>\n",
       "    </tr>\n",
       "    <tr>\n",
       "        <td>04</td>\n",
       "        <td>李云</td>\n",
       "        <td>1990-08-06</td>\n",
       "        <td>男</td>\n",
       "    </tr>\n",
       "    <tr>\n",
       "        <td>05</td>\n",
       "        <td>周梅</td>\n",
       "        <td>1991-12-01</td>\n",
       "        <td>女</td>\n",
       "    </tr>\n",
       "    <tr>\n",
       "        <td>06</td>\n",
       "        <td>吴兰</td>\n",
       "        <td>1992-03-01</td>\n",
       "        <td>女</td>\n",
       "    </tr>\n",
       "    <tr>\n",
       "        <td>07</td>\n",
       "        <td>郑竹</td>\n",
       "        <td>1989-07-01</td>\n",
       "        <td>女</td>\n",
       "    </tr>\n",
       "    <tr>\n",
       "        <td>08</td>\n",
       "        <td>王菊</td>\n",
       "        <td>1990-01-20</td>\n",
       "        <td>女</td>\n",
       "    </tr>\n",
       "</table>"
      ],
      "text/plain": [
       "[('01', '赵雷', '1990-01-01', '男'),\n",
       " ('02', '钱电', '1990-12-21', '男'),\n",
       " ('03', '孙风', '1990-05-20', '男'),\n",
       " ('04', '李云', '1990-08-06', '男'),\n",
       " ('05', '周梅', '1991-12-01', '女'),\n",
       " ('06', '吴兰', '1992-03-01', '女'),\n",
       " ('07', '郑竹', '1989-07-01', '女'),\n",
       " ('08', '王菊', '1990-01-20', '女')]"
      ]
     },
     "execution_count": 11,
     "metadata": {},
     "output_type": "execute_result"
    }
   ],
   "source": [
    "%%sql sqlite://\n",
    "select * from student"
   ]
  },
  {
   "cell_type": "code",
   "execution_count": 12,
   "metadata": {},
   "outputs": [
    {
     "name": "stdout",
     "output_type": "stream",
     "text": [
      "Done.\n"
     ]
    },
    {
     "data": {
      "text/html": [
       "<table>\n",
       "    <tr>\n",
       "        <th>c_id</th>\n",
       "        <th>c_name</th>\n",
       "        <th>t_id</th>\n",
       "    </tr>\n",
       "    <tr>\n",
       "        <td>01</td>\n",
       "        <td>语文</td>\n",
       "        <td>02</td>\n",
       "    </tr>\n",
       "    <tr>\n",
       "        <td>02</td>\n",
       "        <td>数学</td>\n",
       "        <td>01</td>\n",
       "    </tr>\n",
       "    <tr>\n",
       "        <td>03</td>\n",
       "        <td>英语</td>\n",
       "        <td>03</td>\n",
       "    </tr>\n",
       "</table>"
      ],
      "text/plain": [
       "[('01', '语文', '02'), ('02', '数学', '01'), ('03', '英语', '03')]"
      ]
     },
     "execution_count": 12,
     "metadata": {},
     "output_type": "execute_result"
    }
   ],
   "source": [
    "%%sql sqlite://\n",
    "select * from course"
   ]
  },
  {
   "cell_type": "code",
   "execution_count": 13,
   "metadata": {},
   "outputs": [
    {
     "name": "stdout",
     "output_type": "stream",
     "text": [
      "Done.\n"
     ]
    },
    {
     "data": {
      "text/html": [
       "<table>\n",
       "    <tr>\n",
       "        <th>s_id</th>\n",
       "        <th>c_id</th>\n",
       "        <th>s_score</th>\n",
       "    </tr>\n",
       "    <tr>\n",
       "        <td>01</td>\n",
       "        <td>01</td>\n",
       "        <td>80</td>\n",
       "    </tr>\n",
       "    <tr>\n",
       "        <td>01</td>\n",
       "        <td>02</td>\n",
       "        <td>90</td>\n",
       "    </tr>\n",
       "    <tr>\n",
       "        <td>01</td>\n",
       "        <td>03</td>\n",
       "        <td>99</td>\n",
       "    </tr>\n",
       "    <tr>\n",
       "        <td>02</td>\n",
       "        <td>01</td>\n",
       "        <td>70</td>\n",
       "    </tr>\n",
       "    <tr>\n",
       "        <td>02</td>\n",
       "        <td>02</td>\n",
       "        <td>60</td>\n",
       "    </tr>\n",
       "    <tr>\n",
       "        <td>02</td>\n",
       "        <td>03</td>\n",
       "        <td>80</td>\n",
       "    </tr>\n",
       "    <tr>\n",
       "        <td>03</td>\n",
       "        <td>01</td>\n",
       "        <td>80</td>\n",
       "    </tr>\n",
       "    <tr>\n",
       "        <td>03</td>\n",
       "        <td>02</td>\n",
       "        <td>80</td>\n",
       "    </tr>\n",
       "    <tr>\n",
       "        <td>03</td>\n",
       "        <td>03</td>\n",
       "        <td>80</td>\n",
       "    </tr>\n",
       "    <tr>\n",
       "        <td>04</td>\n",
       "        <td>01</td>\n",
       "        <td>50</td>\n",
       "    </tr>\n",
       "    <tr>\n",
       "        <td>04</td>\n",
       "        <td>02</td>\n",
       "        <td>30</td>\n",
       "    </tr>\n",
       "    <tr>\n",
       "        <td>04</td>\n",
       "        <td>03</td>\n",
       "        <td>20</td>\n",
       "    </tr>\n",
       "    <tr>\n",
       "        <td>05</td>\n",
       "        <td>01</td>\n",
       "        <td>76</td>\n",
       "    </tr>\n",
       "    <tr>\n",
       "        <td>05</td>\n",
       "        <td>02</td>\n",
       "        <td>87</td>\n",
       "    </tr>\n",
       "    <tr>\n",
       "        <td>06</td>\n",
       "        <td>01</td>\n",
       "        <td>31</td>\n",
       "    </tr>\n",
       "    <tr>\n",
       "        <td>06</td>\n",
       "        <td>03</td>\n",
       "        <td>34</td>\n",
       "    </tr>\n",
       "    <tr>\n",
       "        <td>07</td>\n",
       "        <td>02</td>\n",
       "        <td>89</td>\n",
       "    </tr>\n",
       "    <tr>\n",
       "        <td>07</td>\n",
       "        <td>03</td>\n",
       "        <td>98</td>\n",
       "    </tr>\n",
       "</table>"
      ],
      "text/plain": [
       "[('01', '01', 80),\n",
       " ('01', '02', 90),\n",
       " ('01', '03', 99),\n",
       " ('02', '01', 70),\n",
       " ('02', '02', 60),\n",
       " ('02', '03', 80),\n",
       " ('03', '01', 80),\n",
       " ('03', '02', 80),\n",
       " ('03', '03', 80),\n",
       " ('04', '01', 50),\n",
       " ('04', '02', 30),\n",
       " ('04', '03', 20),\n",
       " ('05', '01', 76),\n",
       " ('05', '02', 87),\n",
       " ('06', '01', 31),\n",
       " ('06', '03', 34),\n",
       " ('07', '02', 89),\n",
       " ('07', '03', 98)]"
      ]
     },
     "execution_count": 13,
     "metadata": {},
     "output_type": "execute_result"
    }
   ],
   "source": [
    "%%sql sqlite://\n",
    "\n",
    "select * from score"
   ]
  },
  {
   "cell_type": "code",
   "execution_count": 14,
   "metadata": {},
   "outputs": [
    {
     "name": "stdout",
     "output_type": "stream",
     "text": [
      "Done.\n"
     ]
    },
    {
     "data": {
      "text/html": [
       "<table>\n",
       "    <tr>\n",
       "        <th>t_id</th>\n",
       "        <th>t_name</th>\n",
       "    </tr>\n",
       "    <tr>\n",
       "        <td>01</td>\n",
       "        <td>张三</td>\n",
       "    </tr>\n",
       "    <tr>\n",
       "        <td>02</td>\n",
       "        <td>李四</td>\n",
       "    </tr>\n",
       "    <tr>\n",
       "        <td>03</td>\n",
       "        <td>王五</td>\n",
       "    </tr>\n",
       "</table>"
      ],
      "text/plain": [
       "[('01', '张三'), ('02', '李四'), ('03', '王五')]"
      ]
     },
     "execution_count": 14,
     "metadata": {},
     "output_type": "execute_result"
    }
   ],
   "source": [
    "%%sql sqlite://\n",
    "select * from teacher"
   ]
  },
  {
   "cell_type": "code",
   "execution_count": 37,
   "metadata": {},
   "outputs": [
    {
     "name": "stdout",
     "output_type": "stream",
     "text": [
      "Done.\n"
     ]
    },
    {
     "data": {
      "text/html": [
       "<table>\n",
       "    <tr>\n",
       "        <th>s_id</th>\n",
       "        <th>s_name</th>\n",
       "        <th>s_birth</th>\n",
       "        <th>s_sex</th>\n",
       "        <th>s_score</th>\n",
       "        <th>c_id</th>\n",
       "        <th>c_name</th>\n",
       "        <th>t_id</th>\n",
       "        <th>t_name</th>\n",
       "    </tr>\n",
       "    <tr>\n",
       "        <td>01</td>\n",
       "        <td>赵雷</td>\n",
       "        <td>1990-01-01</td>\n",
       "        <td>男</td>\n",
       "        <td>80</td>\n",
       "        <td>01</td>\n",
       "        <td>语文</td>\n",
       "        <td>02</td>\n",
       "        <td>李四</td>\n",
       "    </tr>\n",
       "    <tr>\n",
       "        <td>01</td>\n",
       "        <td>赵雷</td>\n",
       "        <td>1990-01-01</td>\n",
       "        <td>男</td>\n",
       "        <td>90</td>\n",
       "        <td>02</td>\n",
       "        <td>数学</td>\n",
       "        <td>01</td>\n",
       "        <td>张三</td>\n",
       "    </tr>\n",
       "    <tr>\n",
       "        <td>01</td>\n",
       "        <td>赵雷</td>\n",
       "        <td>1990-01-01</td>\n",
       "        <td>男</td>\n",
       "        <td>99</td>\n",
       "        <td>03</td>\n",
       "        <td>英语</td>\n",
       "        <td>03</td>\n",
       "        <td>王五</td>\n",
       "    </tr>\n",
       "    <tr>\n",
       "        <td>02</td>\n",
       "        <td>钱电</td>\n",
       "        <td>1990-12-21</td>\n",
       "        <td>男</td>\n",
       "        <td>70</td>\n",
       "        <td>01</td>\n",
       "        <td>语文</td>\n",
       "        <td>02</td>\n",
       "        <td>李四</td>\n",
       "    </tr>\n",
       "    <tr>\n",
       "        <td>02</td>\n",
       "        <td>钱电</td>\n",
       "        <td>1990-12-21</td>\n",
       "        <td>男</td>\n",
       "        <td>60</td>\n",
       "        <td>02</td>\n",
       "        <td>数学</td>\n",
       "        <td>01</td>\n",
       "        <td>张三</td>\n",
       "    </tr>\n",
       "    <tr>\n",
       "        <td>02</td>\n",
       "        <td>钱电</td>\n",
       "        <td>1990-12-21</td>\n",
       "        <td>男</td>\n",
       "        <td>80</td>\n",
       "        <td>03</td>\n",
       "        <td>英语</td>\n",
       "        <td>03</td>\n",
       "        <td>王五</td>\n",
       "    </tr>\n",
       "    <tr>\n",
       "        <td>03</td>\n",
       "        <td>孙风</td>\n",
       "        <td>1990-05-20</td>\n",
       "        <td>男</td>\n",
       "        <td>80</td>\n",
       "        <td>01</td>\n",
       "        <td>语文</td>\n",
       "        <td>02</td>\n",
       "        <td>李四</td>\n",
       "    </tr>\n",
       "    <tr>\n",
       "        <td>03</td>\n",
       "        <td>孙风</td>\n",
       "        <td>1990-05-20</td>\n",
       "        <td>男</td>\n",
       "        <td>80</td>\n",
       "        <td>02</td>\n",
       "        <td>数学</td>\n",
       "        <td>01</td>\n",
       "        <td>张三</td>\n",
       "    </tr>\n",
       "    <tr>\n",
       "        <td>03</td>\n",
       "        <td>孙风</td>\n",
       "        <td>1990-05-20</td>\n",
       "        <td>男</td>\n",
       "        <td>80</td>\n",
       "        <td>03</td>\n",
       "        <td>英语</td>\n",
       "        <td>03</td>\n",
       "        <td>王五</td>\n",
       "    </tr>\n",
       "    <tr>\n",
       "        <td>04</td>\n",
       "        <td>李云</td>\n",
       "        <td>1990-08-06</td>\n",
       "        <td>男</td>\n",
       "        <td>50</td>\n",
       "        <td>01</td>\n",
       "        <td>语文</td>\n",
       "        <td>02</td>\n",
       "        <td>李四</td>\n",
       "    </tr>\n",
       "    <tr>\n",
       "        <td>04</td>\n",
       "        <td>李云</td>\n",
       "        <td>1990-08-06</td>\n",
       "        <td>男</td>\n",
       "        <td>30</td>\n",
       "        <td>02</td>\n",
       "        <td>数学</td>\n",
       "        <td>01</td>\n",
       "        <td>张三</td>\n",
       "    </tr>\n",
       "    <tr>\n",
       "        <td>04</td>\n",
       "        <td>李云</td>\n",
       "        <td>1990-08-06</td>\n",
       "        <td>男</td>\n",
       "        <td>20</td>\n",
       "        <td>03</td>\n",
       "        <td>英语</td>\n",
       "        <td>03</td>\n",
       "        <td>王五</td>\n",
       "    </tr>\n",
       "    <tr>\n",
       "        <td>05</td>\n",
       "        <td>周梅</td>\n",
       "        <td>1991-12-01</td>\n",
       "        <td>女</td>\n",
       "        <td>76</td>\n",
       "        <td>01</td>\n",
       "        <td>语文</td>\n",
       "        <td>02</td>\n",
       "        <td>李四</td>\n",
       "    </tr>\n",
       "    <tr>\n",
       "        <td>05</td>\n",
       "        <td>周梅</td>\n",
       "        <td>1991-12-01</td>\n",
       "        <td>女</td>\n",
       "        <td>87</td>\n",
       "        <td>02</td>\n",
       "        <td>数学</td>\n",
       "        <td>01</td>\n",
       "        <td>张三</td>\n",
       "    </tr>\n",
       "    <tr>\n",
       "        <td>06</td>\n",
       "        <td>吴兰</td>\n",
       "        <td>1992-03-01</td>\n",
       "        <td>女</td>\n",
       "        <td>31</td>\n",
       "        <td>01</td>\n",
       "        <td>语文</td>\n",
       "        <td>02</td>\n",
       "        <td>李四</td>\n",
       "    </tr>\n",
       "    <tr>\n",
       "        <td>06</td>\n",
       "        <td>吴兰</td>\n",
       "        <td>1992-03-01</td>\n",
       "        <td>女</td>\n",
       "        <td>34</td>\n",
       "        <td>03</td>\n",
       "        <td>英语</td>\n",
       "        <td>03</td>\n",
       "        <td>王五</td>\n",
       "    </tr>\n",
       "    <tr>\n",
       "        <td>07</td>\n",
       "        <td>郑竹</td>\n",
       "        <td>1989-07-01</td>\n",
       "        <td>女</td>\n",
       "        <td>89</td>\n",
       "        <td>02</td>\n",
       "        <td>数学</td>\n",
       "        <td>01</td>\n",
       "        <td>张三</td>\n",
       "    </tr>\n",
       "    <tr>\n",
       "        <td>07</td>\n",
       "        <td>郑竹</td>\n",
       "        <td>1989-07-01</td>\n",
       "        <td>女</td>\n",
       "        <td>98</td>\n",
       "        <td>03</td>\n",
       "        <td>英语</td>\n",
       "        <td>03</td>\n",
       "        <td>王五</td>\n",
       "    </tr>\n",
       "</table>"
      ],
      "text/plain": [
       "[('01', '赵雷', '1990-01-01', '男', 80, '01', '语文', '02', '李四'),\n",
       " ('01', '赵雷', '1990-01-01', '男', 90, '02', '数学', '01', '张三'),\n",
       " ('01', '赵雷', '1990-01-01', '男', 99, '03', '英语', '03', '王五'),\n",
       " ('02', '钱电', '1990-12-21', '男', 70, '01', '语文', '02', '李四'),\n",
       " ('02', '钱电', '1990-12-21', '男', 60, '02', '数学', '01', '张三'),\n",
       " ('02', '钱电', '1990-12-21', '男', 80, '03', '英语', '03', '王五'),\n",
       " ('03', '孙风', '1990-05-20', '男', 80, '01', '语文', '02', '李四'),\n",
       " ('03', '孙风', '1990-05-20', '男', 80, '02', '数学', '01', '张三'),\n",
       " ('03', '孙风', '1990-05-20', '男', 80, '03', '英语', '03', '王五'),\n",
       " ('04', '李云', '1990-08-06', '男', 50, '01', '语文', '02', '李四'),\n",
       " ('04', '李云', '1990-08-06', '男', 30, '02', '数学', '01', '张三'),\n",
       " ('04', '李云', '1990-08-06', '男', 20, '03', '英语', '03', '王五'),\n",
       " ('05', '周梅', '1991-12-01', '女', 76, '01', '语文', '02', '李四'),\n",
       " ('05', '周梅', '1991-12-01', '女', 87, '02', '数学', '01', '张三'),\n",
       " ('06', '吴兰', '1992-03-01', '女', 31, '01', '语文', '02', '李四'),\n",
       " ('06', '吴兰', '1992-03-01', '女', 34, '03', '英语', '03', '王五'),\n",
       " ('07', '郑竹', '1989-07-01', '女', 89, '02', '数学', '01', '张三'),\n",
       " ('07', '郑竹', '1989-07-01', '女', 98, '03', '英语', '03', '王五')]"
      ]
     },
     "execution_count": 37,
     "metadata": {},
     "output_type": "execute_result"
    }
   ],
   "source": [
    "%%sql sqlite://\n",
    "    \n",
    "SELECT st.*,sc.s_score,c.c_id,c.c_name,t.t_id,t.t_name\n",
    "FROM Student st \n",
    "INNER JOIN Score sc \n",
    "on st.s_id=sc.s_id\n",
    "INNER JOIN Course c \n",
    "ON sc.c_id = c.c_id\n",
    "INNER JOIN Teacher t \n",
    "ON c.t_id=t.t_id"
   ]
  },
  {
   "cell_type": "markdown",
   "metadata": {},
   "source": [
    "## 支持窗口函数"
   ]
  },
  {
   "cell_type": "code",
   "execution_count": 3,
   "metadata": {},
   "outputs": [
    {
     "name": "stdout",
     "output_type": "stream",
     "text": [
      "Done.\n"
     ]
    },
    {
     "data": {
      "text/html": [
       "<table>\n",
       "    <tr>\n",
       "        <th>row_num</th>\n",
       "        <th>s_id</th>\n",
       "        <th>s_score</th>\n",
       "    </tr>\n",
       "    <tr>\n",
       "        <td>1</td>\n",
       "        <td>04</td>\n",
       "        <td>20</td>\n",
       "    </tr>\n",
       "    <tr>\n",
       "        <td>2</td>\n",
       "        <td>04</td>\n",
       "        <td>30</td>\n",
       "    </tr>\n",
       "    <tr>\n",
       "        <td>3</td>\n",
       "        <td>06</td>\n",
       "        <td>31</td>\n",
       "    </tr>\n",
       "    <tr>\n",
       "        <td>4</td>\n",
       "        <td>06</td>\n",
       "        <td>34</td>\n",
       "    </tr>\n",
       "    <tr>\n",
       "        <td>5</td>\n",
       "        <td>04</td>\n",
       "        <td>50</td>\n",
       "    </tr>\n",
       "    <tr>\n",
       "        <td>6</td>\n",
       "        <td>02</td>\n",
       "        <td>60</td>\n",
       "    </tr>\n",
       "    <tr>\n",
       "        <td>7</td>\n",
       "        <td>02</td>\n",
       "        <td>70</td>\n",
       "    </tr>\n",
       "    <tr>\n",
       "        <td>8</td>\n",
       "        <td>05</td>\n",
       "        <td>76</td>\n",
       "    </tr>\n",
       "    <tr>\n",
       "        <td>9</td>\n",
       "        <td>01</td>\n",
       "        <td>80</td>\n",
       "    </tr>\n",
       "    <tr>\n",
       "        <td>10</td>\n",
       "        <td>02</td>\n",
       "        <td>80</td>\n",
       "    </tr>\n",
       "    <tr>\n",
       "        <td>11</td>\n",
       "        <td>03</td>\n",
       "        <td>80</td>\n",
       "    </tr>\n",
       "    <tr>\n",
       "        <td>12</td>\n",
       "        <td>03</td>\n",
       "        <td>80</td>\n",
       "    </tr>\n",
       "    <tr>\n",
       "        <td>13</td>\n",
       "        <td>03</td>\n",
       "        <td>80</td>\n",
       "    </tr>\n",
       "    <tr>\n",
       "        <td>14</td>\n",
       "        <td>05</td>\n",
       "        <td>87</td>\n",
       "    </tr>\n",
       "    <tr>\n",
       "        <td>15</td>\n",
       "        <td>07</td>\n",
       "        <td>89</td>\n",
       "    </tr>\n",
       "    <tr>\n",
       "        <td>16</td>\n",
       "        <td>01</td>\n",
       "        <td>90</td>\n",
       "    </tr>\n",
       "    <tr>\n",
       "        <td>17</td>\n",
       "        <td>07</td>\n",
       "        <td>98</td>\n",
       "    </tr>\n",
       "    <tr>\n",
       "        <td>18</td>\n",
       "        <td>01</td>\n",
       "        <td>99</td>\n",
       "    </tr>\n",
       "</table>"
      ],
      "text/plain": [
       "[(1, '04', 20),\n",
       " (2, '04', 30),\n",
       " (3, '06', 31),\n",
       " (4, '06', 34),\n",
       " (5, '04', 50),\n",
       " (6, '02', 60),\n",
       " (7, '02', 70),\n",
       " (8, '05', 76),\n",
       " (9, '01', 80),\n",
       " (10, '02', 80),\n",
       " (11, '03', 80),\n",
       " (12, '03', 80),\n",
       " (13, '03', 80),\n",
       " (14, '05', 87),\n",
       " (15, '07', 89),\n",
       " (16, '01', 90),\n",
       " (17, '07', 98),\n",
       " (18, '01', 99)]"
      ]
     },
     "execution_count": 3,
     "metadata": {},
     "output_type": "execute_result"
    }
   ],
   "source": [
    "%%sql sqlite://\n",
    "    \n",
    "SELECT row_number()\n",
    "OVER(ORDER BY s_score) row_num,s_id,s_score\n",
    "FROM Score"
   ]
  },
  {
   "cell_type": "code",
   "execution_count": 40,
   "metadata": {},
   "outputs": [
    {
     "name": "stdout",
     "output_type": "stream",
     "text": [
      "Done.\n"
     ]
    },
    {
     "data": {
      "text/html": [
       "<table>\n",
       "    <tr>\n",
       "        <th>row_num</th>\n",
       "        <th>s_birth</th>\n",
       "        <th>s_id</th>\n",
       "        <th>s_score</th>\n",
       "    </tr>\n",
       "    <tr>\n",
       "        <td>1</td>\n",
       "        <td>1989-07-01</td>\n",
       "        <td>07</td>\n",
       "        <td>89</td>\n",
       "    </tr>\n",
       "    <tr>\n",
       "        <td>2</td>\n",
       "        <td>1989-07-01</td>\n",
       "        <td>07</td>\n",
       "        <td>98</td>\n",
       "    </tr>\n",
       "    <tr>\n",
       "        <td>1</td>\n",
       "        <td>1990-01-01</td>\n",
       "        <td>01</td>\n",
       "        <td>80</td>\n",
       "    </tr>\n",
       "    <tr>\n",
       "        <td>2</td>\n",
       "        <td>1990-01-01</td>\n",
       "        <td>01</td>\n",
       "        <td>90</td>\n",
       "    </tr>\n",
       "    <tr>\n",
       "        <td>3</td>\n",
       "        <td>1990-01-01</td>\n",
       "        <td>01</td>\n",
       "        <td>99</td>\n",
       "    </tr>\n",
       "    <tr>\n",
       "        <td>1</td>\n",
       "        <td>1990-05-20</td>\n",
       "        <td>03</td>\n",
       "        <td>80</td>\n",
       "    </tr>\n",
       "    <tr>\n",
       "        <td>2</td>\n",
       "        <td>1990-05-20</td>\n",
       "        <td>03</td>\n",
       "        <td>80</td>\n",
       "    </tr>\n",
       "    <tr>\n",
       "        <td>3</td>\n",
       "        <td>1990-05-20</td>\n",
       "        <td>03</td>\n",
       "        <td>80</td>\n",
       "    </tr>\n",
       "    <tr>\n",
       "        <td>1</td>\n",
       "        <td>1990-08-06</td>\n",
       "        <td>04</td>\n",
       "        <td>20</td>\n",
       "    </tr>\n",
       "    <tr>\n",
       "        <td>2</td>\n",
       "        <td>1990-08-06</td>\n",
       "        <td>04</td>\n",
       "        <td>30</td>\n",
       "    </tr>\n",
       "    <tr>\n",
       "        <td>3</td>\n",
       "        <td>1990-08-06</td>\n",
       "        <td>04</td>\n",
       "        <td>50</td>\n",
       "    </tr>\n",
       "    <tr>\n",
       "        <td>1</td>\n",
       "        <td>1990-12-21</td>\n",
       "        <td>02</td>\n",
       "        <td>60</td>\n",
       "    </tr>\n",
       "    <tr>\n",
       "        <td>2</td>\n",
       "        <td>1990-12-21</td>\n",
       "        <td>02</td>\n",
       "        <td>70</td>\n",
       "    </tr>\n",
       "    <tr>\n",
       "        <td>3</td>\n",
       "        <td>1990-12-21</td>\n",
       "        <td>02</td>\n",
       "        <td>80</td>\n",
       "    </tr>\n",
       "    <tr>\n",
       "        <td>1</td>\n",
       "        <td>1991-12-01</td>\n",
       "        <td>05</td>\n",
       "        <td>76</td>\n",
       "    </tr>\n",
       "    <tr>\n",
       "        <td>2</td>\n",
       "        <td>1991-12-01</td>\n",
       "        <td>05</td>\n",
       "        <td>87</td>\n",
       "    </tr>\n",
       "    <tr>\n",
       "        <td>1</td>\n",
       "        <td>1992-03-01</td>\n",
       "        <td>06</td>\n",
       "        <td>31</td>\n",
       "    </tr>\n",
       "    <tr>\n",
       "        <td>2</td>\n",
       "        <td>1992-03-01</td>\n",
       "        <td>06</td>\n",
       "        <td>34</td>\n",
       "    </tr>\n",
       "</table>"
      ],
      "text/plain": [
       "[(1, '1989-07-01', '07', 89),\n",
       " (2, '1989-07-01', '07', 98),\n",
       " (1, '1990-01-01', '01', 80),\n",
       " (2, '1990-01-01', '01', 90),\n",
       " (3, '1990-01-01', '01', 99),\n",
       " (1, '1990-05-20', '03', 80),\n",
       " (2, '1990-05-20', '03', 80),\n",
       " (3, '1990-05-20', '03', 80),\n",
       " (1, '1990-08-06', '04', 20),\n",
       " (2, '1990-08-06', '04', 30),\n",
       " (3, '1990-08-06', '04', 50),\n",
       " (1, '1990-12-21', '02', 60),\n",
       " (2, '1990-12-21', '02', 70),\n",
       " (3, '1990-12-21', '02', 80),\n",
       " (1, '1991-12-01', '05', 76),\n",
       " (2, '1991-12-01', '05', 87),\n",
       " (1, '1992-03-01', '06', 31),\n",
       " (2, '1992-03-01', '06', 34)]"
      ]
     },
     "execution_count": 40,
     "metadata": {},
     "output_type": "execute_result"
    }
   ],
   "source": [
    "%%sql sqlite://\n",
    "    \n",
    "SELECT row_number()\n",
    "OVER(\n",
    "    PARTITION BY s_birth\n",
    "    ORDER BY s_score\n",
    ") row_num, st.s_birth,st.s_id,sc.s_score\n",
    "FROM Student st \n",
    "INNER JOIN Score sc \n",
    "ON st.s_id=sc.s_id\n"
   ]
  },
  {
   "cell_type": "markdown",
   "metadata": {},
   "source": [
    "# 查询课程编号为“01”的课程比“02”的课程成绩高的所有学生的学号（重点）"
   ]
  },
  {
   "cell_type": "code",
   "execution_count": 15,
   "metadata": {},
   "outputs": [
    {
     "name": "stdout",
     "output_type": "stream",
     "text": [
      "Done.\n"
     ]
    },
    {
     "data": {
      "text/html": [
       "<table>\n",
       "    <tr>\n",
       "        <th>01</th>\n",
       "        <th>s_name</th>\n",
       "        <th>s_score</th>\n",
       "    </tr>\n",
       "    <tr>\n",
       "        <td>02</td>\n",
       "        <td>钱电</td>\n",
       "        <td>70</td>\n",
       "    </tr>\n",
       "    <tr>\n",
       "        <td>04</td>\n",
       "        <td>李云</td>\n",
       "        <td>50</td>\n",
       "    </tr>\n",
       "</table>"
      ],
      "text/plain": [
       "[('02', '钱电', 70), ('04', '李云', 50)]"
      ]
     },
     "execution_count": 15,
     "metadata": {},
     "output_type": "execute_result"
    }
   ],
   "source": [
    "%%sql sqlite://\n",
    "SELECT a.s_id '01',st.s_name,a.s_score\n",
    "FROM\n",
    "(\n",
    "    SELECT *\n",
    "    FROM Score\n",
    "    WHERE c_id='01'\n",
    ") a\n",
    "INNER JOIN\n",
    "(\n",
    "    SELECT *\n",
    "    FROM Score\n",
    "    WHERE c_id='02'\n",
    ")b\n",
    "ON a.s_id=b.s_id\n",
    "INNER JOIN\n",
    "Student st\n",
    "ON st.s_id=a.s_id\n",
    "WHERE a.s_score>b.s_score;"
   ]
  },
  {
   "cell_type": "code",
   "execution_count": 16,
   "metadata": {},
   "outputs": [
    {
     "name": "stdout",
     "output_type": "stream",
     "text": [
      "Done.\n"
     ]
    },
    {
     "data": {
      "text/html": [
       "<table>\n",
       "    <tr>\n",
       "        <th>s_id</th>\n",
       "        <th>s_name</th>\n",
       "        <th>s_birth</th>\n",
       "        <th>s_sex</th>\n",
       "    </tr>\n",
       "    <tr>\n",
       "        <td>02</td>\n",
       "        <td>钱电</td>\n",
       "        <td>1990-12-21</td>\n",
       "        <td>男</td>\n",
       "    </tr>\n",
       "    <tr>\n",
       "        <td>04</td>\n",
       "        <td>李云</td>\n",
       "        <td>1990-08-06</td>\n",
       "        <td>男</td>\n",
       "    </tr>\n",
       "</table>"
      ],
      "text/plain": [
       "[('02', '钱电', '1990-12-21', '男'), ('04', '李云', '1990-08-06', '男')]"
      ]
     },
     "execution_count": 16,
     "metadata": {},
     "output_type": "execute_result"
    }
   ],
   "source": [
    "%%sql sqlite://\n",
    "\n",
    "SELECT st.* \n",
    "FROM Student st\n",
    "INNER JOIN\n",
    "(\n",
    "    SELECT *\n",
    "    FROM Score\n",
    "    WHERE c_id='01'\n",
    ") a \n",
    "ON st.s_id=a.s_id\n",
    "INNER JOIN\n",
    "(\n",
    "    SELECT *\n",
    "    FROM Score\n",
    "    WHERE c_id='02'\n",
    ") b \n",
    "ON a.s_id=b.s_id\n",
    "WHERE a.s_score>b.s_score;\n"
   ]
  },
  {
   "cell_type": "code",
   "execution_count": 20,
   "metadata": {},
   "outputs": [
    {
     "name": "stdout",
     "output_type": "stream",
     "text": [
      "Done.\n"
     ]
    },
    {
     "data": {
      "text/html": [
       "<table>\n",
       "    <tr>\n",
       "        <th>s_id</th>\n",
       "        <th>s_name</th>\n",
       "        <th>s_birth</th>\n",
       "        <th>s_sex</th>\n",
       "    </tr>\n",
       "    <tr>\n",
       "        <td>02</td>\n",
       "        <td>钱电</td>\n",
       "        <td>1990-12-21</td>\n",
       "        <td>男</td>\n",
       "    </tr>\n",
       "    <tr>\n",
       "        <td>04</td>\n",
       "        <td>李云</td>\n",
       "        <td>1990-08-06</td>\n",
       "        <td>男</td>\n",
       "    </tr>\n",
       "</table>"
      ],
      "text/plain": [
       "[('02', '钱电', '1990-12-21', '男'), ('04', '李云', '1990-08-06', '男')]"
      ]
     },
     "execution_count": 20,
     "metadata": {},
     "output_type": "execute_result"
    }
   ],
   "source": [
    "%%sql sqlite://\n",
    "SELECT distinct st.*\n",
    "FROM Student st \n",
    "INNER JOIN Score sc \n",
    "ON st.s_id=sc.s_id\n",
    "WHERE st.s_id\n",
    "IN\n",
    "(\n",
    "    SELECT a.s_id \n",
    "    FROM\n",
    "    (\n",
    "        SELECT *\n",
    "        FROM Score\n",
    "        WHERE c_id='01'\n",
    "    ) a \n",
    "    INNER JOIN\n",
    "    (\n",
    "        SELECT *\n",
    "        FROM Score\n",
    "        WHERE c_id='02'\n",
    "    ) b \n",
    "    ON a.s_id=b.s_id\n",
    "    WHERE a.s_score>b.s_score\n",
    ")"
   ]
  },
  {
   "cell_type": "markdown",
   "metadata": {
    "toc-hr-collapsed": true
   },
   "source": [
    "# 查询平均成绩大于60分的学生的学号和平均成绩（简单，第二道重点）"
   ]
  },
  {
   "cell_type": "code",
   "execution_count": 21,
   "metadata": {},
   "outputs": [
    {
     "name": "stdout",
     "output_type": "stream",
     "text": [
      "Done.\n"
     ]
    },
    {
     "data": {
      "text/html": [
       "<table>\n",
       "    <tr>\n",
       "        <th>s_id</th>\n",
       "        <th>mean_score</th>\n",
       "    </tr>\n",
       "    <tr>\n",
       "        <td>01</td>\n",
       "        <td>89.67</td>\n",
       "    </tr>\n",
       "    <tr>\n",
       "        <td>02</td>\n",
       "        <td>70.0</td>\n",
       "    </tr>\n",
       "    <tr>\n",
       "        <td>03</td>\n",
       "        <td>80.0</td>\n",
       "    </tr>\n",
       "    <tr>\n",
       "        <td>05</td>\n",
       "        <td>81.5</td>\n",
       "    </tr>\n",
       "    <tr>\n",
       "        <td>07</td>\n",
       "        <td>93.5</td>\n",
       "    </tr>\n",
       "</table>"
      ],
      "text/plain": [
       "[('01', 89.67), ('02', 70.0), ('03', 80.0), ('05', 81.5), ('07', 93.5)]"
      ]
     },
     "execution_count": 21,
     "metadata": {},
     "output_type": "execute_result"
    }
   ],
   "source": [
    "%%sql sqlite://\n",
    "    \n",
    "SELECT s_id, round(avg(s_score),2) mean_score\n",
    "FROM Score sc\n",
    "GROUP BY s_id\n",
    "HAVING avg(s_score)>60"
   ]
  },
  {
   "cell_type": "markdown",
   "metadata": {},
   "source": [
    "## 反向选择"
   ]
  },
  {
   "cell_type": "code",
   "execution_count": 22,
   "metadata": {},
   "outputs": [
    {
     "name": "stdout",
     "output_type": "stream",
     "text": [
      "Done.\n"
     ]
    },
    {
     "data": {
      "text/html": [
       "<table>\n",
       "    <tr>\n",
       "        <th>s_id</th>\n",
       "        <th>mean_score</th>\n",
       "    </tr>\n",
       "    <tr>\n",
       "        <td>01</td>\n",
       "        <td>59.9</td>\n",
       "    </tr>\n",
       "</table>"
      ],
      "text/plain": [
       "[('01', 59.9)]"
      ]
     },
     "execution_count": 22,
     "metadata": {},
     "output_type": "execute_result"
    }
   ],
   "source": [
    "%%sql sqlite://\n",
    "\n",
    "SELECT s_id,round(avg(s_score),2) mean_score\n",
    "FROM Score\n",
    "WHERE s_score\n",
    "NOT IN\n",
    "(\n",
    "    SELECT s_score\n",
    "    FROM Score\n",
    "    GROUP BY s_id\n",
    "    HAVING avg(s_score)>60\n",
    ")"
   ]
  },
  {
   "cell_type": "markdown",
   "metadata": {},
   "source": [
    "## 包含无成绩的情况"
   ]
  },
  {
   "cell_type": "code",
   "execution_count": 23,
   "metadata": {},
   "outputs": [
    {
     "name": "stdout",
     "output_type": "stream",
     "text": [
      "Done.\n"
     ]
    },
    {
     "data": {
      "text/html": [
       "<table>\n",
       "    <tr>\n",
       "        <th>s_id</th>\n",
       "        <th>mean_score</th>\n",
       "    </tr>\n",
       "    <tr>\n",
       "        <td>01</td>\n",
       "        <td>89.67</td>\n",
       "    </tr>\n",
       "    <tr>\n",
       "        <td>02</td>\n",
       "        <td>70.0</td>\n",
       "    </tr>\n",
       "    <tr>\n",
       "        <td>03</td>\n",
       "        <td>80.0</td>\n",
       "    </tr>\n",
       "    <tr>\n",
       "        <td>05</td>\n",
       "        <td>81.5</td>\n",
       "    </tr>\n",
       "    <tr>\n",
       "        <td>07</td>\n",
       "        <td>93.5</td>\n",
       "    </tr>\n",
       "</table>"
      ],
      "text/plain": [
       "[('01', 89.67), ('02', 70.0), ('03', 80.0), ('05', 81.5), ('07', 93.5)]"
      ]
     },
     "execution_count": 23,
     "metadata": {},
     "output_type": "execute_result"
    }
   ],
   "source": [
    "%%sql sqlite://\n",
    "    \n",
    "SELECT s_id,round(avg(s_score),2) mean_score\n",
    "FROM Score sc \n",
    "GROUP BY s_id\n",
    "HAVING avg(s_score) IS NULL \n",
    "OR avg(s_score)>60"
   ]
  },
  {
   "cell_type": "code",
   "execution_count": 24,
   "metadata": {},
   "outputs": [
    {
     "name": "stdout",
     "output_type": "stream",
     "text": [
      "Done.\n"
     ]
    },
    {
     "data": {
      "text/html": [
       "<table>\n",
       "    <tr>\n",
       "        <th>s_id</th>\n",
       "        <th>mean_score</th>\n",
       "    </tr>\n",
       "    <tr>\n",
       "        <td>01</td>\n",
       "        <td>89.67</td>\n",
       "    </tr>\n",
       "    <tr>\n",
       "        <td>02</td>\n",
       "        <td>70.0</td>\n",
       "    </tr>\n",
       "    <tr>\n",
       "        <td>03</td>\n",
       "        <td>80.0</td>\n",
       "    </tr>\n",
       "    <tr>\n",
       "        <td>05</td>\n",
       "        <td>81.5</td>\n",
       "    </tr>\n",
       "    <tr>\n",
       "        <td>07</td>\n",
       "        <td>93.5</td>\n",
       "    </tr>\n",
       "</table>"
      ],
      "text/plain": [
       "[('01', 89.67), ('02', 70.0), ('03', 80.0), ('05', 81.5), ('07', 93.5)]"
      ]
     },
     "execution_count": 24,
     "metadata": {},
     "output_type": "execute_result"
    }
   ],
   "source": [
    "%%sql sqlite://\n",
    "    \n",
    "SELECT s_id,round(avg(IFNULL(sc.s_score,0)),2) mean_score\n",
    "FROM Score sc \n",
    "GROUP BY s_id\n",
    "HAVING avg(s_score) IS NULL \n",
    "OR avg(s_score)>60"
   ]
  },
  {
   "cell_type": "markdown",
   "metadata": {},
   "source": [
    "`IFNULL()`如果第一个值为NULL，就返回第二个值，否则就返回第一个值"
   ]
  },
  {
   "cell_type": "markdown",
   "metadata": {},
   "source": [
    "# 选择90年5月至91年出生的人"
   ]
  },
  {
   "cell_type": "code",
   "execution_count": 26,
   "metadata": {},
   "outputs": [
    {
     "name": "stdout",
     "output_type": "stream",
     "text": [
      "Done.\n"
     ]
    },
    {
     "data": {
      "text/html": [
       "<table>\n",
       "    <tr>\n",
       "        <th>s_id</th>\n",
       "        <th>s_name</th>\n",
       "        <th>s_birth</th>\n",
       "        <th>s_sex</th>\n",
       "    </tr>\n",
       "    <tr>\n",
       "        <td>02</td>\n",
       "        <td>钱电</td>\n",
       "        <td>1990-12-21</td>\n",
       "        <td>男</td>\n",
       "    </tr>\n",
       "    <tr>\n",
       "        <td>03</td>\n",
       "        <td>孙风</td>\n",
       "        <td>1990-05-20</td>\n",
       "        <td>男</td>\n",
       "    </tr>\n",
       "    <tr>\n",
       "        <td>04</td>\n",
       "        <td>李云</td>\n",
       "        <td>1990-08-06</td>\n",
       "        <td>男</td>\n",
       "    </tr>\n",
       "</table>"
      ],
      "text/plain": [
       "[('02', '钱电', '1990-12-21', '男'),\n",
       " ('03', '孙风', '1990-05-20', '男'),\n",
       " ('04', '李云', '1990-08-06', '男')]"
      ]
     },
     "execution_count": 26,
     "metadata": {},
     "output_type": "execute_result"
    }
   ],
   "source": [
    "%%sql sqlite://\n",
    "SELECT *\n",
    "FROM Student\n",
    "WHERE s_birth\n",
    "BETWEEN '1990-05'\n",
    "AND '1991'   \n"
   ]
  },
  {
   "cell_type": "markdown",
   "metadata": {},
   "source": [
    "# 查询90年后出生的人"
   ]
  },
  {
   "cell_type": "code",
   "execution_count": 27,
   "metadata": {},
   "outputs": [
    {
     "name": "stdout",
     "output_type": "stream",
     "text": [
      "Done.\n"
     ]
    },
    {
     "data": {
      "text/html": [
       "<table>\n",
       "    <tr>\n",
       "        <th>s_id</th>\n",
       "        <th>s_name</th>\n",
       "        <th>s_birth</th>\n",
       "        <th>s_sex</th>\n",
       "    </tr>\n",
       "    <tr>\n",
       "        <td>01</td>\n",
       "        <td>赵雷</td>\n",
       "        <td>1990-01-01</td>\n",
       "        <td>男</td>\n",
       "    </tr>\n",
       "    <tr>\n",
       "        <td>02</td>\n",
       "        <td>钱电</td>\n",
       "        <td>1990-12-21</td>\n",
       "        <td>男</td>\n",
       "    </tr>\n",
       "    <tr>\n",
       "        <td>03</td>\n",
       "        <td>孙风</td>\n",
       "        <td>1990-05-20</td>\n",
       "        <td>男</td>\n",
       "    </tr>\n",
       "    <tr>\n",
       "        <td>04</td>\n",
       "        <td>李云</td>\n",
       "        <td>1990-08-06</td>\n",
       "        <td>男</td>\n",
       "    </tr>\n",
       "    <tr>\n",
       "        <td>05</td>\n",
       "        <td>周梅</td>\n",
       "        <td>1991-12-01</td>\n",
       "        <td>女</td>\n",
       "    </tr>\n",
       "    <tr>\n",
       "        <td>06</td>\n",
       "        <td>吴兰</td>\n",
       "        <td>1992-03-01</td>\n",
       "        <td>女</td>\n",
       "    </tr>\n",
       "    <tr>\n",
       "        <td>08</td>\n",
       "        <td>王菊</td>\n",
       "        <td>1990-01-20</td>\n",
       "        <td>女</td>\n",
       "    </tr>\n",
       "</table>"
      ],
      "text/plain": [
       "[('01', '赵雷', '1990-01-01', '男'),\n",
       " ('02', '钱电', '1990-12-21', '男'),\n",
       " ('03', '孙风', '1990-05-20', '男'),\n",
       " ('04', '李云', '1990-08-06', '男'),\n",
       " ('05', '周梅', '1991-12-01', '女'),\n",
       " ('06', '吴兰', '1992-03-01', '女'),\n",
       " ('08', '王菊', '1990-01-20', '女')]"
      ]
     },
     "execution_count": 27,
     "metadata": {},
     "output_type": "execute_result"
    }
   ],
   "source": [
    "%%sql sqlite://\n",
    "    \n",
    "SELECT *\n",
    "FROM Student\n",
    "WHERE s_birth>'1990'"
   ]
  },
  {
   "cell_type": "markdown",
   "metadata": {},
   "source": [
    "# -- 查询所有学生的学号、姓名、选课数、总成绩（不重要）"
   ]
  },
  {
   "cell_type": "code",
   "execution_count": 28,
   "metadata": {},
   "outputs": [
    {
     "name": "stdout",
     "output_type": "stream",
     "text": [
      "Done.\n"
     ]
    },
    {
     "data": {
      "text/html": [
       "<table>\n",
       "    <tr>\n",
       "        <th>s_id</th>\n",
       "        <th>s_name</th>\n",
       "        <th>s_birth</th>\n",
       "        <th>s_sex</th>\n",
       "        <th>total_score</th>\n",
       "    </tr>\n",
       "    <tr>\n",
       "        <td>01</td>\n",
       "        <td>赵雷</td>\n",
       "        <td>1990-01-01</td>\n",
       "        <td>男</td>\n",
       "        <td>269</td>\n",
       "    </tr>\n",
       "    <tr>\n",
       "        <td>02</td>\n",
       "        <td>钱电</td>\n",
       "        <td>1990-12-21</td>\n",
       "        <td>男</td>\n",
       "        <td>210</td>\n",
       "    </tr>\n",
       "    <tr>\n",
       "        <td>03</td>\n",
       "        <td>孙风</td>\n",
       "        <td>1990-05-20</td>\n",
       "        <td>男</td>\n",
       "        <td>240</td>\n",
       "    </tr>\n",
       "    <tr>\n",
       "        <td>04</td>\n",
       "        <td>李云</td>\n",
       "        <td>1990-08-06</td>\n",
       "        <td>男</td>\n",
       "        <td>100</td>\n",
       "    </tr>\n",
       "    <tr>\n",
       "        <td>05</td>\n",
       "        <td>周梅</td>\n",
       "        <td>1991-12-01</td>\n",
       "        <td>女</td>\n",
       "        <td>163</td>\n",
       "    </tr>\n",
       "    <tr>\n",
       "        <td>06</td>\n",
       "        <td>吴兰</td>\n",
       "        <td>1992-03-01</td>\n",
       "        <td>女</td>\n",
       "        <td>65</td>\n",
       "    </tr>\n",
       "    <tr>\n",
       "        <td>07</td>\n",
       "        <td>郑竹</td>\n",
       "        <td>1989-07-01</td>\n",
       "        <td>女</td>\n",
       "        <td>187</td>\n",
       "    </tr>\n",
       "</table>"
      ],
      "text/plain": [
       "[('01', '赵雷', '1990-01-01', '男', 269),\n",
       " ('02', '钱电', '1990-12-21', '男', 210),\n",
       " ('03', '孙风', '1990-05-20', '男', 240),\n",
       " ('04', '李云', '1990-08-06', '男', 100),\n",
       " ('05', '周梅', '1991-12-01', '女', 163),\n",
       " ('06', '吴兰', '1992-03-01', '女', 65),\n",
       " ('07', '郑竹', '1989-07-01', '女', 187)]"
      ]
     },
     "execution_count": 28,
     "metadata": {},
     "output_type": "execute_result"
    }
   ],
   "source": [
    "%%sql sqlite://\n",
    "    \n",
    "SELECT st.*,sum(sc.s_score) total_score\n",
    "FROM Student st \n",
    "INNER JOIN Score sc \n",
    "ON st.s_id=sc.s_id\n",
    "GROUP BY st.s_id"
   ]
  },
  {
   "cell_type": "markdown",
   "metadata": {},
   "source": [
    "# -- 查询姓“猴”的老师的个数（不重要）"
   ]
  },
  {
   "cell_type": "code",
   "execution_count": 29,
   "metadata": {},
   "outputs": [
    {
     "name": "stdout",
     "output_type": "stream",
     "text": [
      "Done.\n"
     ]
    },
    {
     "data": {
      "text/html": [
       "<table>\n",
       "    <tr>\n",
       "        <th>count(t_id)</th>\n",
       "    </tr>\n",
       "    <tr>\n",
       "        <td>0</td>\n",
       "    </tr>\n",
       "</table>"
      ],
      "text/plain": [
       "[(0,)]"
      ]
     },
     "execution_count": 29,
     "metadata": {},
     "output_type": "execute_result"
    }
   ],
   "source": [
    "%%sql sqlite://\n",
    "    \n",
    "SELECT count(t_id)\n",
    "FROM Teacher\n",
    "WHERE t_name\n",
    "LIKE '猴%'"
   ]
  },
  {
   "cell_type": "markdown",
   "metadata": {},
   "source": [
    "# 查询没学过张三老师的课程 (非常容易错)"
   ]
  },
  {
   "cell_type": "code",
   "execution_count": 32,
   "metadata": {},
   "outputs": [
    {
     "name": "stdout",
     "output_type": "stream",
     "text": [
      "Done.\n"
     ]
    },
    {
     "data": {
      "text/html": [
       "<table>\n",
       "    <tr>\n",
       "        <th>s_id</th>\n",
       "        <th>s_name</th>\n",
       "        <th>s_birth</th>\n",
       "        <th>s_sex</th>\n",
       "    </tr>\n",
       "    <tr>\n",
       "        <td>06</td>\n",
       "        <td>吴兰</td>\n",
       "        <td>1992-03-01</td>\n",
       "        <td>女</td>\n",
       "    </tr>\n",
       "    <tr>\n",
       "        <td>08</td>\n",
       "        <td>王菊</td>\n",
       "        <td>1990-01-20</td>\n",
       "        <td>女</td>\n",
       "    </tr>\n",
       "</table>"
      ],
      "text/plain": [
       "[('06', '吴兰', '1992-03-01', '女'), ('08', '王菊', '1990-01-20', '女')]"
      ]
     },
     "execution_count": 32,
     "metadata": {},
     "output_type": "execute_result"
    }
   ],
   "source": [
    "%%sql sqlite://\n",
    "\n",
    "SELECT *\n",
    "FROM Student st\n",
    "WHERE st.s_id\n",
    "NOT IN\n",
    "(\n",
    "    SELECT sc.s_id\n",
    "    FROM Score sc \n",
    "    INNER JOIN Course c \n",
    "    ON sc.c_id=c.c_id\n",
    "    INNER JOIN Teacher t \n",
    "    ON c.t_id=t.t_id\n",
    "    WHERE t.t_name='张三'\n",
    ")"
   ]
  },
  {
   "cell_type": "markdown",
   "metadata": {},
   "source": [
    "**错误解法**"
   ]
  },
  {
   "cell_type": "code",
   "execution_count": 33,
   "metadata": {},
   "outputs": [
    {
     "name": "stdout",
     "output_type": "stream",
     "text": [
      "Done.\n"
     ]
    },
    {
     "data": {
      "text/html": [
       "<table>\n",
       "    <tr>\n",
       "        <th>s_id</th>\n",
       "        <th>s_name</th>\n",
       "        <th>s_birth</th>\n",
       "        <th>s_sex</th>\n",
       "    </tr>\n",
       "    <tr>\n",
       "        <td>01</td>\n",
       "        <td>赵雷</td>\n",
       "        <td>1990-01-01</td>\n",
       "        <td>男</td>\n",
       "    </tr>\n",
       "    <tr>\n",
       "        <td>02</td>\n",
       "        <td>钱电</td>\n",
       "        <td>1990-12-21</td>\n",
       "        <td>男</td>\n",
       "    </tr>\n",
       "    <tr>\n",
       "        <td>03</td>\n",
       "        <td>孙风</td>\n",
       "        <td>1990-05-20</td>\n",
       "        <td>男</td>\n",
       "    </tr>\n",
       "    <tr>\n",
       "        <td>04</td>\n",
       "        <td>李云</td>\n",
       "        <td>1990-08-06</td>\n",
       "        <td>男</td>\n",
       "    </tr>\n",
       "    <tr>\n",
       "        <td>05</td>\n",
       "        <td>周梅</td>\n",
       "        <td>1991-12-01</td>\n",
       "        <td>女</td>\n",
       "    </tr>\n",
       "    <tr>\n",
       "        <td>06</td>\n",
       "        <td>吴兰</td>\n",
       "        <td>1992-03-01</td>\n",
       "        <td>女</td>\n",
       "    </tr>\n",
       "    <tr>\n",
       "        <td>07</td>\n",
       "        <td>郑竹</td>\n",
       "        <td>1989-07-01</td>\n",
       "        <td>女</td>\n",
       "    </tr>\n",
       "</table>"
      ],
      "text/plain": [
       "[('01', '赵雷', '1990-01-01', '男'),\n",
       " ('02', '钱电', '1990-12-21', '男'),\n",
       " ('03', '孙风', '1990-05-20', '男'),\n",
       " ('04', '李云', '1990-08-06', '男'),\n",
       " ('05', '周梅', '1991-12-01', '女'),\n",
       " ('06', '吴兰', '1992-03-01', '女'),\n",
       " ('07', '郑竹', '1989-07-01', '女')]"
      ]
     },
     "execution_count": 33,
     "metadata": {},
     "output_type": "execute_result"
    }
   ],
   "source": [
    "%%sql sqlite://\n",
    "    \n",
    "SELECT *\n",
    "FROM Student st\n",
    "WHERE st.s_id\n",
    "IN\n",
    "(\n",
    "    SELECT sc.s_id\n",
    "    FROM Score sc \n",
    "    INNER JOIN Course c \n",
    "    ON sc.c_id=c.c_id\n",
    "    INNER JOIN Teacher t \n",
    "    ON c.t_id=t.t_id\n",
    "    WHERE t.t_name!='张三'\n",
    ");"
   ]
  },
  {
   "cell_type": "markdown",
   "metadata": {},
   "source": [
    "**错误原因**"
   ]
  },
  {
   "cell_type": "markdown",
   "metadata": {},
   "source": [
    "先选择全部数据表"
   ]
  },
  {
   "cell_type": "code",
   "execution_count": 35,
   "metadata": {},
   "outputs": [
    {
     "name": "stdout",
     "output_type": "stream",
     "text": [
      "Done.\n"
     ]
    },
    {
     "data": {
      "text/html": [
       "<table>\n",
       "    <tr>\n",
       "        <th>s_id</th>\n",
       "        <th>s_name</th>\n",
       "        <th>s_birth</th>\n",
       "        <th>s_sex</th>\n",
       "        <th>s_score</th>\n",
       "        <th>c_id</th>\n",
       "        <th>t_id</th>\n",
       "        <th>t_name</th>\n",
       "    </tr>\n",
       "    <tr>\n",
       "        <td>01</td>\n",
       "        <td>赵雷</td>\n",
       "        <td>1990-01-01</td>\n",
       "        <td>男</td>\n",
       "        <td>80</td>\n",
       "        <td>01</td>\n",
       "        <td>02</td>\n",
       "        <td>李四</td>\n",
       "    </tr>\n",
       "    <tr>\n",
       "        <td>01</td>\n",
       "        <td>赵雷</td>\n",
       "        <td>1990-01-01</td>\n",
       "        <td>男</td>\n",
       "        <td>90</td>\n",
       "        <td>02</td>\n",
       "        <td>01</td>\n",
       "        <td>张三</td>\n",
       "    </tr>\n",
       "    <tr>\n",
       "        <td>01</td>\n",
       "        <td>赵雷</td>\n",
       "        <td>1990-01-01</td>\n",
       "        <td>男</td>\n",
       "        <td>99</td>\n",
       "        <td>03</td>\n",
       "        <td>03</td>\n",
       "        <td>王五</td>\n",
       "    </tr>\n",
       "    <tr>\n",
       "        <td>02</td>\n",
       "        <td>钱电</td>\n",
       "        <td>1990-12-21</td>\n",
       "        <td>男</td>\n",
       "        <td>70</td>\n",
       "        <td>01</td>\n",
       "        <td>02</td>\n",
       "        <td>李四</td>\n",
       "    </tr>\n",
       "    <tr>\n",
       "        <td>02</td>\n",
       "        <td>钱电</td>\n",
       "        <td>1990-12-21</td>\n",
       "        <td>男</td>\n",
       "        <td>60</td>\n",
       "        <td>02</td>\n",
       "        <td>01</td>\n",
       "        <td>张三</td>\n",
       "    </tr>\n",
       "    <tr>\n",
       "        <td>02</td>\n",
       "        <td>钱电</td>\n",
       "        <td>1990-12-21</td>\n",
       "        <td>男</td>\n",
       "        <td>80</td>\n",
       "        <td>03</td>\n",
       "        <td>03</td>\n",
       "        <td>王五</td>\n",
       "    </tr>\n",
       "    <tr>\n",
       "        <td>03</td>\n",
       "        <td>孙风</td>\n",
       "        <td>1990-05-20</td>\n",
       "        <td>男</td>\n",
       "        <td>80</td>\n",
       "        <td>01</td>\n",
       "        <td>02</td>\n",
       "        <td>李四</td>\n",
       "    </tr>\n",
       "    <tr>\n",
       "        <td>03</td>\n",
       "        <td>孙风</td>\n",
       "        <td>1990-05-20</td>\n",
       "        <td>男</td>\n",
       "        <td>80</td>\n",
       "        <td>02</td>\n",
       "        <td>01</td>\n",
       "        <td>张三</td>\n",
       "    </tr>\n",
       "    <tr>\n",
       "        <td>03</td>\n",
       "        <td>孙风</td>\n",
       "        <td>1990-05-20</td>\n",
       "        <td>男</td>\n",
       "        <td>80</td>\n",
       "        <td>03</td>\n",
       "        <td>03</td>\n",
       "        <td>王五</td>\n",
       "    </tr>\n",
       "    <tr>\n",
       "        <td>04</td>\n",
       "        <td>李云</td>\n",
       "        <td>1990-08-06</td>\n",
       "        <td>男</td>\n",
       "        <td>50</td>\n",
       "        <td>01</td>\n",
       "        <td>02</td>\n",
       "        <td>李四</td>\n",
       "    </tr>\n",
       "    <tr>\n",
       "        <td>04</td>\n",
       "        <td>李云</td>\n",
       "        <td>1990-08-06</td>\n",
       "        <td>男</td>\n",
       "        <td>30</td>\n",
       "        <td>02</td>\n",
       "        <td>01</td>\n",
       "        <td>张三</td>\n",
       "    </tr>\n",
       "    <tr>\n",
       "        <td>04</td>\n",
       "        <td>李云</td>\n",
       "        <td>1990-08-06</td>\n",
       "        <td>男</td>\n",
       "        <td>20</td>\n",
       "        <td>03</td>\n",
       "        <td>03</td>\n",
       "        <td>王五</td>\n",
       "    </tr>\n",
       "    <tr>\n",
       "        <td>05</td>\n",
       "        <td>周梅</td>\n",
       "        <td>1991-12-01</td>\n",
       "        <td>女</td>\n",
       "        <td>76</td>\n",
       "        <td>01</td>\n",
       "        <td>02</td>\n",
       "        <td>李四</td>\n",
       "    </tr>\n",
       "    <tr>\n",
       "        <td>05</td>\n",
       "        <td>周梅</td>\n",
       "        <td>1991-12-01</td>\n",
       "        <td>女</td>\n",
       "        <td>87</td>\n",
       "        <td>02</td>\n",
       "        <td>01</td>\n",
       "        <td>张三</td>\n",
       "    </tr>\n",
       "    <tr>\n",
       "        <td>06</td>\n",
       "        <td>吴兰</td>\n",
       "        <td>1992-03-01</td>\n",
       "        <td>女</td>\n",
       "        <td>31</td>\n",
       "        <td>01</td>\n",
       "        <td>02</td>\n",
       "        <td>李四</td>\n",
       "    </tr>\n",
       "    <tr>\n",
       "        <td>06</td>\n",
       "        <td>吴兰</td>\n",
       "        <td>1992-03-01</td>\n",
       "        <td>女</td>\n",
       "        <td>34</td>\n",
       "        <td>03</td>\n",
       "        <td>03</td>\n",
       "        <td>王五</td>\n",
       "    </tr>\n",
       "    <tr>\n",
       "        <td>07</td>\n",
       "        <td>郑竹</td>\n",
       "        <td>1989-07-01</td>\n",
       "        <td>女</td>\n",
       "        <td>89</td>\n",
       "        <td>02</td>\n",
       "        <td>01</td>\n",
       "        <td>张三</td>\n",
       "    </tr>\n",
       "    <tr>\n",
       "        <td>07</td>\n",
       "        <td>郑竹</td>\n",
       "        <td>1989-07-01</td>\n",
       "        <td>女</td>\n",
       "        <td>98</td>\n",
       "        <td>03</td>\n",
       "        <td>03</td>\n",
       "        <td>王五</td>\n",
       "    </tr>\n",
       "</table>"
      ],
      "text/plain": [
       "[('01', '赵雷', '1990-01-01', '男', 80, '01', '02', '李四'),\n",
       " ('01', '赵雷', '1990-01-01', '男', 90, '02', '01', '张三'),\n",
       " ('01', '赵雷', '1990-01-01', '男', 99, '03', '03', '王五'),\n",
       " ('02', '钱电', '1990-12-21', '男', 70, '01', '02', '李四'),\n",
       " ('02', '钱电', '1990-12-21', '男', 60, '02', '01', '张三'),\n",
       " ('02', '钱电', '1990-12-21', '男', 80, '03', '03', '王五'),\n",
       " ('03', '孙风', '1990-05-20', '男', 80, '01', '02', '李四'),\n",
       " ('03', '孙风', '1990-05-20', '男', 80, '02', '01', '张三'),\n",
       " ('03', '孙风', '1990-05-20', '男', 80, '03', '03', '王五'),\n",
       " ('04', '李云', '1990-08-06', '男', 50, '01', '02', '李四'),\n",
       " ('04', '李云', '1990-08-06', '男', 30, '02', '01', '张三'),\n",
       " ('04', '李云', '1990-08-06', '男', 20, '03', '03', '王五'),\n",
       " ('05', '周梅', '1991-12-01', '女', 76, '01', '02', '李四'),\n",
       " ('05', '周梅', '1991-12-01', '女', 87, '02', '01', '张三'),\n",
       " ('06', '吴兰', '1992-03-01', '女', 31, '01', '02', '李四'),\n",
       " ('06', '吴兰', '1992-03-01', '女', 34, '03', '03', '王五'),\n",
       " ('07', '郑竹', '1989-07-01', '女', 89, '02', '01', '张三'),\n",
       " ('07', '郑竹', '1989-07-01', '女', 98, '03', '03', '王五')]"
      ]
     },
     "execution_count": 35,
     "metadata": {},
     "output_type": "execute_result"
    }
   ],
   "source": [
    "%%sql sqlite://\n",
    "    \n",
    "SELECT st.*,sc.s_score,c.c_id,t.t_id,t.t_name\n",
    "FROM Student st \n",
    "INNER JOIN Score sc \n",
    "on st.s_id=sc.s_id\n",
    "INNER JOIN Course c \n",
    "ON sc.c_id = c.c_id\n",
    "INNER JOIN Teacher t \n",
    "ON c.t_id=t.t_id"
   ]
  },
  {
   "cell_type": "code",
   "execution_count": 36,
   "metadata": {},
   "outputs": [
    {
     "name": "stdout",
     "output_type": "stream",
     "text": [
      "Done.\n"
     ]
    },
    {
     "data": {
      "text/html": [
       "<table>\n",
       "    <tr>\n",
       "        <th>s_id</th>\n",
       "        <th>s_name</th>\n",
       "        <th>s_birth</th>\n",
       "        <th>s_sex</th>\n",
       "        <th>s_score</th>\n",
       "        <th>c_id</th>\n",
       "        <th>t_id</th>\n",
       "        <th>t_name</th>\n",
       "    </tr>\n",
       "    <tr>\n",
       "        <td>01</td>\n",
       "        <td>赵雷</td>\n",
       "        <td>1990-01-01</td>\n",
       "        <td>男</td>\n",
       "        <td>80</td>\n",
       "        <td>01</td>\n",
       "        <td>02</td>\n",
       "        <td>李四</td>\n",
       "    </tr>\n",
       "    <tr>\n",
       "        <td>01</td>\n",
       "        <td>赵雷</td>\n",
       "        <td>1990-01-01</td>\n",
       "        <td>男</td>\n",
       "        <td>99</td>\n",
       "        <td>03</td>\n",
       "        <td>03</td>\n",
       "        <td>王五</td>\n",
       "    </tr>\n",
       "    <tr>\n",
       "        <td>02</td>\n",
       "        <td>钱电</td>\n",
       "        <td>1990-12-21</td>\n",
       "        <td>男</td>\n",
       "        <td>70</td>\n",
       "        <td>01</td>\n",
       "        <td>02</td>\n",
       "        <td>李四</td>\n",
       "    </tr>\n",
       "    <tr>\n",
       "        <td>02</td>\n",
       "        <td>钱电</td>\n",
       "        <td>1990-12-21</td>\n",
       "        <td>男</td>\n",
       "        <td>80</td>\n",
       "        <td>03</td>\n",
       "        <td>03</td>\n",
       "        <td>王五</td>\n",
       "    </tr>\n",
       "    <tr>\n",
       "        <td>03</td>\n",
       "        <td>孙风</td>\n",
       "        <td>1990-05-20</td>\n",
       "        <td>男</td>\n",
       "        <td>80</td>\n",
       "        <td>01</td>\n",
       "        <td>02</td>\n",
       "        <td>李四</td>\n",
       "    </tr>\n",
       "    <tr>\n",
       "        <td>03</td>\n",
       "        <td>孙风</td>\n",
       "        <td>1990-05-20</td>\n",
       "        <td>男</td>\n",
       "        <td>80</td>\n",
       "        <td>03</td>\n",
       "        <td>03</td>\n",
       "        <td>王五</td>\n",
       "    </tr>\n",
       "    <tr>\n",
       "        <td>04</td>\n",
       "        <td>李云</td>\n",
       "        <td>1990-08-06</td>\n",
       "        <td>男</td>\n",
       "        <td>50</td>\n",
       "        <td>01</td>\n",
       "        <td>02</td>\n",
       "        <td>李四</td>\n",
       "    </tr>\n",
       "    <tr>\n",
       "        <td>04</td>\n",
       "        <td>李云</td>\n",
       "        <td>1990-08-06</td>\n",
       "        <td>男</td>\n",
       "        <td>20</td>\n",
       "        <td>03</td>\n",
       "        <td>03</td>\n",
       "        <td>王五</td>\n",
       "    </tr>\n",
       "    <tr>\n",
       "        <td>05</td>\n",
       "        <td>周梅</td>\n",
       "        <td>1991-12-01</td>\n",
       "        <td>女</td>\n",
       "        <td>76</td>\n",
       "        <td>01</td>\n",
       "        <td>02</td>\n",
       "        <td>李四</td>\n",
       "    </tr>\n",
       "    <tr>\n",
       "        <td>06</td>\n",
       "        <td>吴兰</td>\n",
       "        <td>1992-03-01</td>\n",
       "        <td>女</td>\n",
       "        <td>31</td>\n",
       "        <td>01</td>\n",
       "        <td>02</td>\n",
       "        <td>李四</td>\n",
       "    </tr>\n",
       "    <tr>\n",
       "        <td>06</td>\n",
       "        <td>吴兰</td>\n",
       "        <td>1992-03-01</td>\n",
       "        <td>女</td>\n",
       "        <td>34</td>\n",
       "        <td>03</td>\n",
       "        <td>03</td>\n",
       "        <td>王五</td>\n",
       "    </tr>\n",
       "    <tr>\n",
       "        <td>07</td>\n",
       "        <td>郑竹</td>\n",
       "        <td>1989-07-01</td>\n",
       "        <td>女</td>\n",
       "        <td>98</td>\n",
       "        <td>03</td>\n",
       "        <td>03</td>\n",
       "        <td>王五</td>\n",
       "    </tr>\n",
       "</table>"
      ],
      "text/plain": [
       "[('01', '赵雷', '1990-01-01', '男', 80, '01', '02', '李四'),\n",
       " ('01', '赵雷', '1990-01-01', '男', 99, '03', '03', '王五'),\n",
       " ('02', '钱电', '1990-12-21', '男', 70, '01', '02', '李四'),\n",
       " ('02', '钱电', '1990-12-21', '男', 80, '03', '03', '王五'),\n",
       " ('03', '孙风', '1990-05-20', '男', 80, '01', '02', '李四'),\n",
       " ('03', '孙风', '1990-05-20', '男', 80, '03', '03', '王五'),\n",
       " ('04', '李云', '1990-08-06', '男', 50, '01', '02', '李四'),\n",
       " ('04', '李云', '1990-08-06', '男', 20, '03', '03', '王五'),\n",
       " ('05', '周梅', '1991-12-01', '女', 76, '01', '02', '李四'),\n",
       " ('06', '吴兰', '1992-03-01', '女', 31, '01', '02', '李四'),\n",
       " ('06', '吴兰', '1992-03-01', '女', 34, '03', '03', '王五'),\n",
       " ('07', '郑竹', '1989-07-01', '女', 98, '03', '03', '王五')]"
      ]
     },
     "execution_count": 36,
     "metadata": {},
     "output_type": "execute_result"
    }
   ],
   "source": [
    "%%sql sqlite://\n",
    "    \n",
    "SELECT st.*,sc.s_score,c.c_id,t.t_id,t.t_name\n",
    "FROM Student st \n",
    "INNER JOIN Score sc \n",
    "on st.s_id=sc.s_id\n",
    "INNER JOIN Course c \n",
    "ON sc.c_id = c.c_id\n",
    "INNER JOIN Teacher t \n",
    "ON c.t_id=t.t_id\n",
    "WHERE t.t_name!='张三'"
   ]
  },
  {
   "cell_type": "markdown",
   "metadata": {},
   "source": [
    "这一种查询方法仅仅是把`t_name!=张三`这一部分排除了，仍然查找出另外两个老师，对应的学生"
   ]
  },
  {
   "cell_type": "code",
   "execution_count": 41,
   "metadata": {},
   "outputs": [
    {
     "name": "stdout",
     "output_type": "stream",
     "text": [
      "Done.\n"
     ]
    },
    {
     "data": {
      "text/html": [
       "<table>\n",
       "    <tr>\n",
       "        <th>s_id</th>\n",
       "        <th>s_name</th>\n",
       "        <th>s_birth</th>\n",
       "        <th>s_sex</th>\n",
       "        <th>s_id_1</th>\n",
       "        <th>c_id</th>\n",
       "        <th>s_score</th>\n",
       "        <th>c_id_1</th>\n",
       "        <th>c_name</th>\n",
       "        <th>t_id</th>\n",
       "        <th>t_id_1</th>\n",
       "        <th>t_name</th>\n",
       "    </tr>\n",
       "    <tr>\n",
       "        <td>01</td>\n",
       "        <td>赵雷</td>\n",
       "        <td>1990-01-01</td>\n",
       "        <td>男</td>\n",
       "        <td>01</td>\n",
       "        <td>02</td>\n",
       "        <td>90</td>\n",
       "        <td>02</td>\n",
       "        <td>数学</td>\n",
       "        <td>01</td>\n",
       "        <td>01</td>\n",
       "        <td>张三</td>\n",
       "    </tr>\n",
       "    <tr>\n",
       "        <td>02</td>\n",
       "        <td>钱电</td>\n",
       "        <td>1990-12-21</td>\n",
       "        <td>男</td>\n",
       "        <td>02</td>\n",
       "        <td>02</td>\n",
       "        <td>60</td>\n",
       "        <td>02</td>\n",
       "        <td>数学</td>\n",
       "        <td>01</td>\n",
       "        <td>01</td>\n",
       "        <td>张三</td>\n",
       "    </tr>\n",
       "    <tr>\n",
       "        <td>03</td>\n",
       "        <td>孙风</td>\n",
       "        <td>1990-05-20</td>\n",
       "        <td>男</td>\n",
       "        <td>03</td>\n",
       "        <td>02</td>\n",
       "        <td>80</td>\n",
       "        <td>02</td>\n",
       "        <td>数学</td>\n",
       "        <td>01</td>\n",
       "        <td>01</td>\n",
       "        <td>张三</td>\n",
       "    </tr>\n",
       "    <tr>\n",
       "        <td>04</td>\n",
       "        <td>李云</td>\n",
       "        <td>1990-08-06</td>\n",
       "        <td>男</td>\n",
       "        <td>04</td>\n",
       "        <td>02</td>\n",
       "        <td>30</td>\n",
       "        <td>02</td>\n",
       "        <td>数学</td>\n",
       "        <td>01</td>\n",
       "        <td>01</td>\n",
       "        <td>张三</td>\n",
       "    </tr>\n",
       "    <tr>\n",
       "        <td>05</td>\n",
       "        <td>周梅</td>\n",
       "        <td>1991-12-01</td>\n",
       "        <td>女</td>\n",
       "        <td>05</td>\n",
       "        <td>02</td>\n",
       "        <td>87</td>\n",
       "        <td>02</td>\n",
       "        <td>数学</td>\n",
       "        <td>01</td>\n",
       "        <td>01</td>\n",
       "        <td>张三</td>\n",
       "    </tr>\n",
       "    <tr>\n",
       "        <td>07</td>\n",
       "        <td>郑竹</td>\n",
       "        <td>1989-07-01</td>\n",
       "        <td>女</td>\n",
       "        <td>07</td>\n",
       "        <td>02</td>\n",
       "        <td>89</td>\n",
       "        <td>02</td>\n",
       "        <td>数学</td>\n",
       "        <td>01</td>\n",
       "        <td>01</td>\n",
       "        <td>张三</td>\n",
       "    </tr>\n",
       "</table>"
      ],
      "text/plain": [
       "[('01', '赵雷', '1990-01-01', '男', '01', '02', 90, '02', '数学', '01', '01', '张三'),\n",
       " ('02', '钱电', '1990-12-21', '男', '02', '02', 60, '02', '数学', '01', '01', '张三'),\n",
       " ('03', '孙风', '1990-05-20', '男', '03', '02', 80, '02', '数学', '01', '01', '张三'),\n",
       " ('04', '李云', '1990-08-06', '男', '04', '02', 30, '02', '数学', '01', '01', '张三'),\n",
       " ('05', '周梅', '1991-12-01', '女', '05', '02', 87, '02', '数学', '01', '01', '张三'),\n",
       " ('07', '郑竹', '1989-07-01', '女', '07', '02', 89, '02', '数学', '01', '01', '张三')]"
      ]
     },
     "execution_count": 41,
     "metadata": {},
     "output_type": "execute_result"
    }
   ],
   "source": [
    "%%sql sqlite://\n",
    "    \n",
    "SELECT *\n",
    "FROM Student st \n",
    "INNER JOIN Score sc \n",
    "ON st.s_id=sc.s_id\n",
    "INNER JOIN Course c \n",
    "ON sc.c_id=c.c_id\n",
    "INNER JOIN Teacher t \n",
    "ON t.t_id=c.t_id\n",
    "WHERE t.t_name='张三'"
   ]
  },
  {
   "cell_type": "markdown",
   "metadata": {},
   "source": [
    "# 查询学过编号为“01”的课程并且也学过编号为“02”的课程的学生的学号、姓名（重点）"
   ]
  },
  {
   "cell_type": "code",
   "execution_count": 15,
   "metadata": {},
   "outputs": [
    {
     "name": "stdout",
     "output_type": "stream",
     "text": [
      "Done.\n"
     ]
    },
    {
     "data": {
      "text/html": [
       "<table>\n",
       "    <tr>\n",
       "        <th>s_id</th>\n",
       "        <th>s_name</th>\n",
       "        <th>s_birth</th>\n",
       "        <th>s_sex</th>\n",
       "    </tr>\n",
       "    <tr>\n",
       "        <td>01</td>\n",
       "        <td>赵雷</td>\n",
       "        <td>1990-01-01</td>\n",
       "        <td>男</td>\n",
       "    </tr>\n",
       "    <tr>\n",
       "        <td>02</td>\n",
       "        <td>钱电</td>\n",
       "        <td>1990-12-21</td>\n",
       "        <td>男</td>\n",
       "    </tr>\n",
       "    <tr>\n",
       "        <td>03</td>\n",
       "        <td>孙风</td>\n",
       "        <td>1990-05-20</td>\n",
       "        <td>男</td>\n",
       "    </tr>\n",
       "    <tr>\n",
       "        <td>04</td>\n",
       "        <td>李云</td>\n",
       "        <td>1990-08-06</td>\n",
       "        <td>男</td>\n",
       "    </tr>\n",
       "    <tr>\n",
       "        <td>05</td>\n",
       "        <td>周梅</td>\n",
       "        <td>1991-12-01</td>\n",
       "        <td>女</td>\n",
       "    </tr>\n",
       "</table>"
      ],
      "text/plain": [
       "[('01', '赵雷', '1990-01-01', '男'),\n",
       " ('02', '钱电', '1990-12-21', '男'),\n",
       " ('03', '孙风', '1990-05-20', '男'),\n",
       " ('04', '李云', '1990-08-06', '男'),\n",
       " ('05', '周梅', '1991-12-01', '女')]"
      ]
     },
     "execution_count": 15,
     "metadata": {},
     "output_type": "execute_result"
    }
   ],
   "source": [
    "%%sql sqlite://\n",
    "SELECT * \n",
    "FROM Student st\n",
    "WHERE st.s_id\n",
    "IN\n",
    "(\n",
    "    SELECT a.s_id\n",
    "    FROM\n",
    "    (\n",
    "        SELECT *\n",
    "        FROM Score sc \n",
    "        WHERE sc.c_id='01'\n",
    "    ) a \n",
    "    INNER JOIN\n",
    "    (\n",
    "        SELECT *\n",
    "        FROM Score sc \n",
    "        WHERE sc.c_id='02'\n",
    "    ) b \n",
    "    ON a.s_id=b.s_id\n",
    ")"
   ]
  },
  {
   "cell_type": "code",
   "execution_count": 16,
   "metadata": {},
   "outputs": [
    {
     "name": "stdout",
     "output_type": "stream",
     "text": [
      "Done.\n"
     ]
    },
    {
     "data": {
      "text/html": [
       "<table>\n",
       "    <tr>\n",
       "        <th>s_id</th>\n",
       "        <th>c_id</th>\n",
       "        <th>c_id_1</th>\n",
       "    </tr>\n",
       "    <tr>\n",
       "        <td>01</td>\n",
       "        <td>01</td>\n",
       "        <td>02</td>\n",
       "    </tr>\n",
       "    <tr>\n",
       "        <td>02</td>\n",
       "        <td>01</td>\n",
       "        <td>02</td>\n",
       "    </tr>\n",
       "    <tr>\n",
       "        <td>03</td>\n",
       "        <td>01</td>\n",
       "        <td>02</td>\n",
       "    </tr>\n",
       "    <tr>\n",
       "        <td>04</td>\n",
       "        <td>01</td>\n",
       "        <td>02</td>\n",
       "    </tr>\n",
       "    <tr>\n",
       "        <td>05</td>\n",
       "        <td>01</td>\n",
       "        <td>02</td>\n",
       "    </tr>\n",
       "</table>"
      ],
      "text/plain": [
       "[('01', '01', '02'),\n",
       " ('02', '01', '02'),\n",
       " ('03', '01', '02'),\n",
       " ('04', '01', '02'),\n",
       " ('05', '01', '02')]"
      ]
     },
     "execution_count": 16,
     "metadata": {},
     "output_type": "execute_result"
    }
   ],
   "source": [
    "%%sql sqlite://\n",
    "    \n",
    "    SELECT a.s_id,a.c_id,b.c_id\n",
    "    FROM\n",
    "    (\n",
    "        SELECT *\n",
    "        FROM Score sc \n",
    "        WHERE sc.c_id='01'\n",
    "    ) a \n",
    "    INNER JOIN\n",
    "    (\n",
    "        SELECT *\n",
    "        FROM Score sc \n",
    "        WHERE sc.c_id='02'\n",
    "    ) b \n",
    "    ON a.s_id=b.s_id"
   ]
  },
  {
   "cell_type": "code",
   "execution_count": 17,
   "metadata": {},
   "outputs": [
    {
     "name": "stdout",
     "output_type": "stream",
     "text": [
      "Done.\n"
     ]
    },
    {
     "data": {
      "text/html": [
       "<table>\n",
       "    <tr>\n",
       "        <th>s_id</th>\n",
       "        <th>c_id</th>\n",
       "        <th>c_id_1</th>\n",
       "    </tr>\n",
       "    <tr>\n",
       "        <td>01</td>\n",
       "        <td>01</td>\n",
       "        <td>02</td>\n",
       "    </tr>\n",
       "    <tr>\n",
       "        <td>02</td>\n",
       "        <td>01</td>\n",
       "        <td>02</td>\n",
       "    </tr>\n",
       "    <tr>\n",
       "        <td>03</td>\n",
       "        <td>01</td>\n",
       "        <td>02</td>\n",
       "    </tr>\n",
       "    <tr>\n",
       "        <td>04</td>\n",
       "        <td>01</td>\n",
       "        <td>02</td>\n",
       "    </tr>\n",
       "    <tr>\n",
       "        <td>05</td>\n",
       "        <td>01</td>\n",
       "        <td>02</td>\n",
       "    </tr>\n",
       "</table>"
      ],
      "text/plain": [
       "[('01', '01', '02'),\n",
       " ('02', '01', '02'),\n",
       " ('03', '01', '02'),\n",
       " ('04', '01', '02'),\n",
       " ('05', '01', '02')]"
      ]
     },
     "execution_count": 17,
     "metadata": {},
     "output_type": "execute_result"
    }
   ],
   "source": [
    "%%sql sqlite://\n",
    "    \n",
    "SELECT a.s_id,a.c_id,b.c_id\n",
    "FROM\n",
    "(\n",
    "    SELECT *\n",
    "    FROM Score sc \n",
    "    WHERE sc.c_id='01'\n",
    ") a \n",
    "INNER JOIN\n",
    "(\n",
    "    SELECT *\n",
    "    FROM Score sc \n",
    "    WHERE sc.c_id='02'\n",
    ") b \n",
    "ON a.s_id=b.s_id"
   ]
  },
  {
   "cell_type": "markdown",
   "metadata": {},
   "source": [
    "# 查询学过编号为“01”的课程但没有学过编号为“02”的课程的学生的学号、姓名（重点）"
   ]
  },
  {
   "cell_type": "code",
   "execution_count": 10,
   "metadata": {},
   "outputs": [
    {
     "name": "stdout",
     "output_type": "stream",
     "text": [
      "Done.\n"
     ]
    },
    {
     "data": {
      "text/html": [
       "<table>\n",
       "    <tr>\n",
       "        <th>s_id</th>\n",
       "        <th>s_name</th>\n",
       "        <th>s_birth</th>\n",
       "        <th>s_sex</th>\n",
       "    </tr>\n",
       "    <tr>\n",
       "        <td>06</td>\n",
       "        <td>吴兰</td>\n",
       "        <td>1992-03-01</td>\n",
       "        <td>女</td>\n",
       "    </tr>\n",
       "</table>"
      ],
      "text/plain": [
       "[('06', '吴兰', '1992-03-01', '女')]"
      ]
     },
     "execution_count": 10,
     "metadata": {},
     "output_type": "execute_result"
    }
   ],
   "source": [
    "%%sql sqlite://\n",
    "\n",
    "SELECT *\n",
    "FROM Student st \n",
    "WHERE st.s_id\n",
    "IN\n",
    "(\n",
    "    SELECT s_id\n",
    "    FROM Score sc \n",
    "    WHERE sc.c_id='01'\n",
    ")\n",
    "AND st.s_id NOT IN\n",
    "(\n",
    "    SELECT s_id\n",
    "    FROM Score sc \n",
    "    WHERE sc.c_id='02'\n",
    ")"
   ]
  },
  {
   "cell_type": "markdown",
   "metadata": {},
   "source": [
    "# -- 查询课程编号为“02”的总成绩（不重点）"
   ]
  },
  {
   "cell_type": "code",
   "execution_count": 4,
   "metadata": {},
   "outputs": [
    {
     "name": "stdout",
     "output_type": "stream",
     "text": [
      "Done.\n"
     ]
    },
    {
     "data": {
      "text/html": [
       "<table>\n",
       "    <tr>\n",
       "        <th>sum(s_score)</th>\n",
       "    </tr>\n",
       "    <tr>\n",
       "        <td>436</td>\n",
       "    </tr>\n",
       "</table>"
      ],
      "text/plain": [
       "[(436,)]"
      ]
     },
     "execution_count": 4,
     "metadata": {},
     "output_type": "execute_result"
    }
   ],
   "source": [
    "%%sql sqlite://\n",
    "SELECT sum(s_score)\n",
    "FROM Score\n",
    "GROUP BY c_id\n",
    "HAVING c_id='02'"
   ]
  },
  {
   "cell_type": "markdown",
   "metadata": {},
   "source": [
    "# 查询所有课程成绩小于60分的学生的学号、姓名\n",
    "\n",
    "1. 查询所有小于60分的课程\n",
    "2. 统计学生共选了几门课\n",
    "3. 小于60分的课程==所有学过的课程"
   ]
  },
  {
   "cell_type": "code",
   "execution_count": 6,
   "metadata": {},
   "outputs": [
    {
     "name": "stdout",
     "output_type": "stream",
     "text": [
      "Done.\n"
     ]
    },
    {
     "data": {
      "text/html": [
       "<table>\n",
       "    <tr>\n",
       "        <th>s_id</th>\n",
       "        <th>s_name</th>\n",
       "        <th>s_birth</th>\n",
       "        <th>s_sex</th>\n",
       "    </tr>\n",
       "    <tr>\n",
       "        <td>04</td>\n",
       "        <td>李云</td>\n",
       "        <td>1990-08-06</td>\n",
       "        <td>男</td>\n",
       "    </tr>\n",
       "    <tr>\n",
       "        <td>06</td>\n",
       "        <td>吴兰</td>\n",
       "        <td>1992-03-01</td>\n",
       "        <td>女</td>\n",
       "    </tr>\n",
       "</table>"
      ],
      "text/plain": [
       "[('04', '李云', '1990-08-06', '男'), ('06', '吴兰', '1992-03-01', '女')]"
      ]
     },
     "execution_count": 6,
     "metadata": {},
     "output_type": "execute_result"
    }
   ],
   "source": [
    "%%sql sqlite://\n",
    "    \n",
    "SELECT st.*\n",
    "FROM\n",
    "(\n",
    "    SELECT s_id,count(c_id) cnt \n",
    "    FROM Score\n",
    "    WHERE s_score<60\n",
    "    GROUP BY s_id\n",
    ")a\n",
    "INNER JOIN \n",
    "(\n",
    "    SELECT s_id,count(c_id) cnt \n",
    "    FROM Score\n",
    "    GROUP BY s_id\n",
    "\n",
    ") b\n",
    "ON a.s_id=b.s_id\n",
    "INNER JOIN Student st \n",
    "ON st.s_id=a.s_id\n",
    "WHERE a.cnt=b.cnt"
   ]
  },
  {
   "cell_type": "code",
   "execution_count": 5,
   "metadata": {},
   "outputs": [
    {
     "name": "stdout",
     "output_type": "stream",
     "text": [
      "Done.\n"
     ]
    },
    {
     "data": {
      "text/html": [
       "<table>\n",
       "    <tr>\n",
       "        <th>s_id</th>\n",
       "        <th>s_name</th>\n",
       "        <th>s_birth</th>\n",
       "        <th>s_sex</th>\n",
       "    </tr>\n",
       "    <tr>\n",
       "        <td>04</td>\n",
       "        <td>李云</td>\n",
       "        <td>1990-08-06</td>\n",
       "        <td>男</td>\n",
       "    </tr>\n",
       "    <tr>\n",
       "        <td>06</td>\n",
       "        <td>吴兰</td>\n",
       "        <td>1992-03-01</td>\n",
       "        <td>女</td>\n",
       "    </tr>\n",
       "</table>"
      ],
      "text/plain": [
       "[('04', '李云', '1990-08-06', '男'), ('06', '吴兰', '1992-03-01', '女')]"
      ]
     },
     "execution_count": 5,
     "metadata": {},
     "output_type": "execute_result"
    }
   ],
   "source": [
    "%%sql sqlite:// \n",
    "SELECT st.*\n",
    "FROM Student st \n",
    "INNER JOIN Score sc \n",
    "ON st.s_id=sc.s_id\n",
    "GROUP BY st.s_id\n",
    "HAVING max(sc.s_score)<60"
   ]
  },
  {
   "cell_type": "markdown",
   "metadata": {},
   "source": [
    "# 查询没有学全所有课的学生的学号、姓名(重点)"
   ]
  },
  {
   "cell_type": "code",
   "execution_count": 7,
   "metadata": {},
   "outputs": [
    {
     "name": "stdout",
     "output_type": "stream",
     "text": [
      "Done.\n"
     ]
    },
    {
     "data": {
      "text/html": [
       "<table>\n",
       "    <tr>\n",
       "        <th>s_id</th>\n",
       "        <th>s_name</th>\n",
       "        <th>s_birth</th>\n",
       "        <th>s_sex</th>\n",
       "        <th>s_id_1</th>\n",
       "        <th>c_id</th>\n",
       "        <th>s_score</th>\n",
       "        <th>c_id_1</th>\n",
       "        <th>c_name</th>\n",
       "        <th>t_id</th>\n",
       "    </tr>\n",
       "    <tr>\n",
       "        <td>05</td>\n",
       "        <td>周梅</td>\n",
       "        <td>1991-12-01</td>\n",
       "        <td>女</td>\n",
       "        <td>05</td>\n",
       "        <td>01</td>\n",
       "        <td>76</td>\n",
       "        <td>01</td>\n",
       "        <td>语文</td>\n",
       "        <td>02</td>\n",
       "    </tr>\n",
       "    <tr>\n",
       "        <td>06</td>\n",
       "        <td>吴兰</td>\n",
       "        <td>1992-03-01</td>\n",
       "        <td>女</td>\n",
       "        <td>06</td>\n",
       "        <td>01</td>\n",
       "        <td>31</td>\n",
       "        <td>01</td>\n",
       "        <td>语文</td>\n",
       "        <td>02</td>\n",
       "    </tr>\n",
       "    <tr>\n",
       "        <td>07</td>\n",
       "        <td>郑竹</td>\n",
       "        <td>1989-07-01</td>\n",
       "        <td>女</td>\n",
       "        <td>07</td>\n",
       "        <td>02</td>\n",
       "        <td>89</td>\n",
       "        <td>02</td>\n",
       "        <td>数学</td>\n",
       "        <td>01</td>\n",
       "    </tr>\n",
       "</table>"
      ],
      "text/plain": [
       "[('05', '周梅', '1991-12-01', '女', '05', '01', 76, '01', '语文', '02'),\n",
       " ('06', '吴兰', '1992-03-01', '女', '06', '01', 31, '01', '语文', '02'),\n",
       " ('07', '郑竹', '1989-07-01', '女', '07', '02', 89, '02', '数学', '01')]"
      ]
     },
     "execution_count": 7,
     "metadata": {},
     "output_type": "execute_result"
    }
   ],
   "source": [
    "%%sql sqlite://\n",
    "    \n",
    "SELECT st.*,sc.*,c.*\n",
    "FROM Course c\n",
    "INNER JOIN Score sc \n",
    "ON sc.c_id=c.c_id\n",
    "INNER JOIN Student st \n",
    "ON st.s_id=sc.s_id\n",
    "GROUP BY sc.s_id\n",
    "HAVING count(sc.c_id)<\n",
    "(\n",
    "    SELECT count(DISTINCT c_id)\n",
    "    FROM Course\n",
    ")"
   ]
  },
  {
   "cell_type": "markdown",
   "metadata": {},
   "source": [
    "# 查询至少有一门课与学号为“01”的学生所学课程相同的学生的学号和姓名（重点）"
   ]
  },
  {
   "cell_type": "code",
   "execution_count": 8,
   "metadata": {},
   "outputs": [
    {
     "name": "stdout",
     "output_type": "stream",
     "text": [
      "Done.\n"
     ]
    },
    {
     "data": {
      "text/html": [
       "<table>\n",
       "    <tr>\n",
       "        <th>s_id</th>\n",
       "        <th>s_name</th>\n",
       "        <th>s_birth</th>\n",
       "        <th>s_sex</th>\n",
       "    </tr>\n",
       "    <tr>\n",
       "        <td>02</td>\n",
       "        <td>钱电</td>\n",
       "        <td>1990-12-21</td>\n",
       "        <td>男</td>\n",
       "    </tr>\n",
       "    <tr>\n",
       "        <td>03</td>\n",
       "        <td>孙风</td>\n",
       "        <td>1990-05-20</td>\n",
       "        <td>男</td>\n",
       "    </tr>\n",
       "    <tr>\n",
       "        <td>04</td>\n",
       "        <td>李云</td>\n",
       "        <td>1990-08-06</td>\n",
       "        <td>男</td>\n",
       "    </tr>\n",
       "    <tr>\n",
       "        <td>05</td>\n",
       "        <td>周梅</td>\n",
       "        <td>1991-12-01</td>\n",
       "        <td>女</td>\n",
       "    </tr>\n",
       "    <tr>\n",
       "        <td>06</td>\n",
       "        <td>吴兰</td>\n",
       "        <td>1992-03-01</td>\n",
       "        <td>女</td>\n",
       "    </tr>\n",
       "    <tr>\n",
       "        <td>07</td>\n",
       "        <td>郑竹</td>\n",
       "        <td>1989-07-01</td>\n",
       "        <td>女</td>\n",
       "    </tr>\n",
       "</table>"
      ],
      "text/plain": [
       "[('02', '钱电', '1990-12-21', '男'),\n",
       " ('03', '孙风', '1990-05-20', '男'),\n",
       " ('04', '李云', '1990-08-06', '男'),\n",
       " ('05', '周梅', '1991-12-01', '女'),\n",
       " ('06', '吴兰', '1992-03-01', '女'),\n",
       " ('07', '郑竹', '1989-07-01', '女')]"
      ]
     },
     "execution_count": 8,
     "metadata": {},
     "output_type": "execute_result"
    }
   ],
   "source": [
    "%%sql sqlite://\n",
    "    \n",
    "SELECT DISTINCT st.*\n",
    "FROM Student st \n",
    "INNER JOIN Score sc \n",
    "ON st.s_id = sc.s_id\n",
    "WHERE sc.c_id IN\n",
    "(\n",
    "    SELECT c_id \n",
    "    FROM Score\n",
    "    WHERE s_id='01'\n",
    ")\n",
    "AND st.s_id!='01'"
   ]
  },
  {
   "cell_type": "markdown",
   "metadata": {},
   "source": [
    "# 查询和“01”号同学所学课程完全相同的其他同学的学号(重点)\n",
    "\n"
   ]
  },
  {
   "cell_type": "code",
   "execution_count": 9,
   "metadata": {},
   "outputs": [
    {
     "name": "stdout",
     "output_type": "stream",
     "text": [
      "Done.\n"
     ]
    },
    {
     "data": {
      "text/html": [
       "<table>\n",
       "    <tr>\n",
       "        <th>s_id</th>\n",
       "        <th>s_name</th>\n",
       "        <th>s_birth</th>\n",
       "        <th>s_sex</th>\n",
       "    </tr>\n",
       "    <tr>\n",
       "        <td>02</td>\n",
       "        <td>钱电</td>\n",
       "        <td>1990-12-21</td>\n",
       "        <td>男</td>\n",
       "    </tr>\n",
       "    <tr>\n",
       "        <td>03</td>\n",
       "        <td>孙风</td>\n",
       "        <td>1990-05-20</td>\n",
       "        <td>男</td>\n",
       "    </tr>\n",
       "    <tr>\n",
       "        <td>04</td>\n",
       "        <td>李云</td>\n",
       "        <td>1990-08-06</td>\n",
       "        <td>男</td>\n",
       "    </tr>\n",
       "</table>"
      ],
      "text/plain": [
       "[('02', '钱电', '1990-12-21', '男'),\n",
       " ('03', '孙风', '1990-05-20', '男'),\n",
       " ('04', '李云', '1990-08-06', '男')]"
      ]
     },
     "execution_count": 9,
     "metadata": {},
     "output_type": "execute_result"
    }
   ],
   "source": [
    "%%sql sqlite://\n",
    "    \n",
    "SELECT st.*\n",
    "FROM Student st \n",
    "INNER JOIN Score sc \n",
    "ON st.s_id=sc.s_id\n",
    "GROUP BY st.s_id\n",
    "HAVING count(c_id) IN\n",
    "(\n",
    "    SELECT count(c_id)\n",
    "    FROM Score \n",
    "    WHERE s_id='01'\n",
    ")\n",
    "AND sc.s_id !='01'"
   ]
  },
  {
   "cell_type": "markdown",
   "metadata": {},
   "source": [
    "# 查询没学过\"张三\"老师讲授的任一门课程的学生姓名 和47题一样（重点，能做出来）"
   ]
  },
  {
   "cell_type": "code",
   "execution_count": 10,
   "metadata": {},
   "outputs": [
    {
     "name": "stdout",
     "output_type": "stream",
     "text": [
      "Done.\n"
     ]
    },
    {
     "data": {
      "text/html": [
       "<table>\n",
       "    <tr>\n",
       "        <th>s_id</th>\n",
       "        <th>s_name</th>\n",
       "        <th>s_birth</th>\n",
       "        <th>s_sex</th>\n",
       "    </tr>\n",
       "    <tr>\n",
       "        <td>06</td>\n",
       "        <td>吴兰</td>\n",
       "        <td>1992-03-01</td>\n",
       "        <td>女</td>\n",
       "    </tr>\n",
       "    <tr>\n",
       "        <td>08</td>\n",
       "        <td>王菊</td>\n",
       "        <td>1990-01-20</td>\n",
       "        <td>女</td>\n",
       "    </tr>\n",
       "</table>"
      ],
      "text/plain": [
       "[('06', '吴兰', '1992-03-01', '女'), ('08', '王菊', '1990-01-20', '女')]"
      ]
     },
     "execution_count": 10,
     "metadata": {},
     "output_type": "execute_result"
    }
   ],
   "source": [
    "%%sql sqlite://\n",
    "    \n",
    "    \n",
    "SELECT st.*\n",
    "FROM Student st \n",
    "WHERE st.s_id NOT IN\n",
    "(\n",
    "    SELECT sc.s_id\n",
    "    FROM Score sc \n",
    "    INNER JOIN Course c \n",
    "    ON sc.c_id=c.c_id\n",
    "    INNER JOIN Teacher t \n",
    "    ON t.t_id=c.t_id\n",
    "    WHERE t_name='张三'\n",
    ")\n"
   ]
  },
  {
   "cell_type": "markdown",
   "metadata": {},
   "source": [
    "# 查询两门及其以上不及格课程的同学的学号，姓名及其平均成绩（重点）"
   ]
  },
  {
   "cell_type": "code",
   "execution_count": 11,
   "metadata": {},
   "outputs": [
    {
     "name": "stdout",
     "output_type": "stream",
     "text": [
      "Done.\n"
     ]
    },
    {
     "data": {
      "text/html": [
       "<table>\n",
       "    <tr>\n",
       "        <th>s_id</th>\n",
       "        <th>s_name</th>\n",
       "        <th>s_birth</th>\n",
       "        <th>s_sex</th>\n",
       "        <th>avg(sc.s_score)</th>\n",
       "    </tr>\n",
       "    <tr>\n",
       "        <td>04</td>\n",
       "        <td>李云</td>\n",
       "        <td>1990-08-06</td>\n",
       "        <td>男</td>\n",
       "        <td>33.333333333333336</td>\n",
       "    </tr>\n",
       "    <tr>\n",
       "        <td>06</td>\n",
       "        <td>吴兰</td>\n",
       "        <td>1992-03-01</td>\n",
       "        <td>女</td>\n",
       "        <td>32.5</td>\n",
       "    </tr>\n",
       "</table>"
      ],
      "text/plain": [
       "[('04', '李云', '1990-08-06', '男', 33.333333333333336),\n",
       " ('06', '吴兰', '1992-03-01', '女', 32.5)]"
      ]
     },
     "execution_count": 11,
     "metadata": {},
     "output_type": "execute_result"
    }
   ],
   "source": [
    "%%sql sqlite:// \n",
    "    \n",
    "SELECT st.*, avg(sc.s_score)\n",
    "FROM Score sc\n",
    "INNER JOIN Student st \n",
    "ON st.s_id=sc.s_id\n",
    "WHERE s_score<60\n",
    "GROUP BY sc.s_id\n",
    "HAVING count(c_id)>=2"
   ]
  },
  {
   "cell_type": "markdown",
   "metadata": {},
   "source": [
    "# 检索\"01\"课程分数小于60，按分数降序排列的学生信息（和34题重复，不重点）"
   ]
  },
  {
   "cell_type": "code",
   "execution_count": 14,
   "metadata": {},
   "outputs": [
    {
     "name": "stdout",
     "output_type": "stream",
     "text": [
      "Done.\n"
     ]
    },
    {
     "data": {
      "text/html": [
       "<table>\n",
       "    <tr>\n",
       "        <th>s_id</th>\n",
       "        <th>s_score</th>\n",
       "        <th>c_id</th>\n",
       "    </tr>\n",
       "    <tr>\n",
       "        <td>04</td>\n",
       "        <td>50</td>\n",
       "        <td>01</td>\n",
       "    </tr>\n",
       "    <tr>\n",
       "        <td>06</td>\n",
       "        <td>31</td>\n",
       "        <td>01</td>\n",
       "    </tr>\n",
       "</table>"
      ],
      "text/plain": [
       "[('04', 50, '01'), ('06', 31, '01')]"
      ]
     },
     "execution_count": 14,
     "metadata": {},
     "output_type": "execute_result"
    }
   ],
   "source": [
    "%%sql sqlite:// \n",
    "    \n",
    "SELECT s_id,sc.s_score,sc.c_id\n",
    "FROM Score sc \n",
    "WHERE sc.c_id='01'\n",
    "AND sc.s_score<60"
   ]
  },
  {
   "cell_type": "markdown",
   "metadata": {},
   "source": [
    "# 按平均成绩从高到低显示所有学生的所有课程的成绩以及平均成绩(重重点与35一样)"
   ]
  },
  {
   "cell_type": "code",
   "execution_count": 5,
   "metadata": {},
   "outputs": [
    {
     "name": "stdout",
     "output_type": "stream",
     "text": [
      "Done.\n"
     ]
    },
    {
     "data": {
      "text/html": [
       "<table>\n",
       "    <tr>\n",
       "        <th>s_id</th>\n",
       "        <th>mean_score</th>\n",
       "    </tr>\n",
       "    <tr>\n",
       "        <td>07</td>\n",
       "        <td>93.5</td>\n",
       "    </tr>\n",
       "    <tr>\n",
       "        <td>01</td>\n",
       "        <td>89.67</td>\n",
       "    </tr>\n",
       "    <tr>\n",
       "        <td>05</td>\n",
       "        <td>81.5</td>\n",
       "    </tr>\n",
       "    <tr>\n",
       "        <td>03</td>\n",
       "        <td>80.0</td>\n",
       "    </tr>\n",
       "    <tr>\n",
       "        <td>02</td>\n",
       "        <td>70.0</td>\n",
       "    </tr>\n",
       "    <tr>\n",
       "        <td>04</td>\n",
       "        <td>33.33</td>\n",
       "    </tr>\n",
       "    <tr>\n",
       "        <td>06</td>\n",
       "        <td>32.5</td>\n",
       "    </tr>\n",
       "</table>"
      ],
      "text/plain": [
       "[('07', 93.5),\n",
       " ('01', 89.67),\n",
       " ('05', 81.5),\n",
       " ('03', 80.0),\n",
       " ('02', 70.0),\n",
       " ('04', 33.33),\n",
       " ('06', 32.5)]"
      ]
     },
     "execution_count": 5,
     "metadata": {},
     "output_type": "execute_result"
    }
   ],
   "source": [
    "%%sql sqlite://\n",
    "    \n",
    "SELECT sc.s_id,round(avg(s_score),2) mean_score\n",
    "FROM Score sc \n",
    "GROUP BY sc.s_id\n",
    "ORDER BY avg(sc.s_score) DESC"
   ]
  },
  {
   "cell_type": "markdown",
   "metadata": {},
   "source": [
    "# 查询各科成绩最高分、最低分和平均分：以如下形式显示：课程ID，课程name，最高分，最低分，平均分，及格率，中等率，优良率，优秀率"
   ]
  },
  {
   "cell_type": "code",
   "execution_count": 4,
   "metadata": {},
   "outputs": [
    {
     "name": "stdout",
     "output_type": "stream",
     "text": [
      "Done.\n"
     ]
    },
    {
     "data": {
      "text/html": [
       "<table>\n",
       "    <tr>\n",
       "        <th>c_id</th>\n",
       "        <th>max_score</th>\n",
       "        <th>min_score</th>\n",
       "        <th>mean_score</th>\n",
       "        <th>&gt;60</th>\n",
       "        <th>70~80</th>\n",
       "        <th>80~90</th>\n",
       "        <th>&gt;90</th>\n",
       "    </tr>\n",
       "    <tr>\n",
       "        <td>01</td>\n",
       "        <td>80</td>\n",
       "        <td>31</td>\n",
       "        <td>64.5</td>\n",
       "        <td>0.67</td>\n",
       "        <td>0.33</td>\n",
       "        <td>0.33</td>\n",
       "        <td>0.0</td>\n",
       "    </tr>\n",
       "    <tr>\n",
       "        <td>02</td>\n",
       "        <td>90</td>\n",
       "        <td>30</td>\n",
       "        <td>72.67</td>\n",
       "        <td>0.83</td>\n",
       "        <td>0.0</td>\n",
       "        <td>0.5</td>\n",
       "        <td>0.17</td>\n",
       "    </tr>\n",
       "    <tr>\n",
       "        <td>03</td>\n",
       "        <td>99</td>\n",
       "        <td>20</td>\n",
       "        <td>68.5</td>\n",
       "        <td>0.67</td>\n",
       "        <td>0.0</td>\n",
       "        <td>0.33</td>\n",
       "        <td>0.33</td>\n",
       "    </tr>\n",
       "</table>"
      ],
      "text/plain": [
       "[('01', 80, 31, 64.5, 0.67, 0.33, 0.33, 0.0),\n",
       " ('02', 90, 30, 72.67, 0.83, 0.0, 0.5, 0.17),\n",
       " ('03', 99, 20, 68.5, 0.67, 0.0, 0.33, 0.33)]"
      ]
     },
     "execution_count": 4,
     "metadata": {},
     "output_type": "execute_result"
    }
   ],
   "source": [
    "%%sql sqlite://\n",
    "    \n",
    "SELECT c_id, \n",
    "max(s_score) max_score,\n",
    "min(s_score) min_score,\n",
    "round(avg(s_score),2) mean_score,\n",
    "round(avg(CASE WHEN s_score>=60 THEN 1.0 ELSE 0 END),2) '>60',\n",
    "round(avg(CASE WHEN s_score>=70 AND s_score<80 THEN 1.0 ELSE 0 END),2) '70~80',\n",
    "round(avg(CASE WHEN s_score>=80 AND s_score<90 THEN 1.0 ELSE 0 END),2) '80~90',\n",
    "round(avg(CASE WHEN s_score>=90 THEN 1.0 ELSE 0 END),2) '>90'\n",
    "FROM Score\n",
    "GROUP BY c_id"
   ]
  },
  {
   "cell_type": "markdown",
   "metadata": {},
   "source": [
    "# 按各科成绩进行排序，并显示排名(重点row_number)"
   ]
  },
  {
   "cell_type": "code",
   "execution_count": 6,
   "metadata": {},
   "outputs": [
    {
     "name": "stdout",
     "output_type": "stream",
     "text": [
      "Done.\n"
     ]
    },
    {
     "data": {
      "text/html": [
       "<table>\n",
       "    <tr>\n",
       "        <th>s_id</th>\n",
       "        <th>c_id</th>\n",
       "        <th>s_score</th>\n",
       "        <th>ranking</th>\n",
       "    </tr>\n",
       "    <tr>\n",
       "        <td>01</td>\n",
       "        <td>03</td>\n",
       "        <td>99</td>\n",
       "        <td>1</td>\n",
       "    </tr>\n",
       "    <tr>\n",
       "        <td>07</td>\n",
       "        <td>03</td>\n",
       "        <td>98</td>\n",
       "        <td>2</td>\n",
       "    </tr>\n",
       "    <tr>\n",
       "        <td>01</td>\n",
       "        <td>02</td>\n",
       "        <td>90</td>\n",
       "        <td>3</td>\n",
       "    </tr>\n",
       "    <tr>\n",
       "        <td>07</td>\n",
       "        <td>02</td>\n",
       "        <td>89</td>\n",
       "        <td>4</td>\n",
       "    </tr>\n",
       "    <tr>\n",
       "        <td>05</td>\n",
       "        <td>02</td>\n",
       "        <td>87</td>\n",
       "        <td>5</td>\n",
       "    </tr>\n",
       "    <tr>\n",
       "        <td>01</td>\n",
       "        <td>01</td>\n",
       "        <td>80</td>\n",
       "        <td>6</td>\n",
       "    </tr>\n",
       "    <tr>\n",
       "        <td>02</td>\n",
       "        <td>03</td>\n",
       "        <td>80</td>\n",
       "        <td>7</td>\n",
       "    </tr>\n",
       "    <tr>\n",
       "        <td>03</td>\n",
       "        <td>01</td>\n",
       "        <td>80</td>\n",
       "        <td>8</td>\n",
       "    </tr>\n",
       "    <tr>\n",
       "        <td>03</td>\n",
       "        <td>02</td>\n",
       "        <td>80</td>\n",
       "        <td>9</td>\n",
       "    </tr>\n",
       "    <tr>\n",
       "        <td>03</td>\n",
       "        <td>03</td>\n",
       "        <td>80</td>\n",
       "        <td>10</td>\n",
       "    </tr>\n",
       "    <tr>\n",
       "        <td>05</td>\n",
       "        <td>01</td>\n",
       "        <td>76</td>\n",
       "        <td>11</td>\n",
       "    </tr>\n",
       "    <tr>\n",
       "        <td>02</td>\n",
       "        <td>01</td>\n",
       "        <td>70</td>\n",
       "        <td>12</td>\n",
       "    </tr>\n",
       "    <tr>\n",
       "        <td>02</td>\n",
       "        <td>02</td>\n",
       "        <td>60</td>\n",
       "        <td>13</td>\n",
       "    </tr>\n",
       "    <tr>\n",
       "        <td>04</td>\n",
       "        <td>01</td>\n",
       "        <td>50</td>\n",
       "        <td>14</td>\n",
       "    </tr>\n",
       "    <tr>\n",
       "        <td>06</td>\n",
       "        <td>03</td>\n",
       "        <td>34</td>\n",
       "        <td>15</td>\n",
       "    </tr>\n",
       "    <tr>\n",
       "        <td>06</td>\n",
       "        <td>01</td>\n",
       "        <td>31</td>\n",
       "        <td>16</td>\n",
       "    </tr>\n",
       "    <tr>\n",
       "        <td>04</td>\n",
       "        <td>02</td>\n",
       "        <td>30</td>\n",
       "        <td>17</td>\n",
       "    </tr>\n",
       "    <tr>\n",
       "        <td>04</td>\n",
       "        <td>03</td>\n",
       "        <td>20</td>\n",
       "        <td>18</td>\n",
       "    </tr>\n",
       "</table>"
      ],
      "text/plain": [
       "[('01', '03', 99, 1),\n",
       " ('07', '03', 98, 2),\n",
       " ('01', '02', 90, 3),\n",
       " ('07', '02', 89, 4),\n",
       " ('05', '02', 87, 5),\n",
       " ('01', '01', 80, 6),\n",
       " ('02', '03', 80, 7),\n",
       " ('03', '01', 80, 8),\n",
       " ('03', '02', 80, 9),\n",
       " ('03', '03', 80, 10),\n",
       " ('05', '01', 76, 11),\n",
       " ('02', '01', 70, 12),\n",
       " ('02', '02', 60, 13),\n",
       " ('04', '01', 50, 14),\n",
       " ('06', '03', 34, 15),\n",
       " ('06', '01', 31, 16),\n",
       " ('04', '02', 30, 17),\n",
       " ('04', '03', 20, 18)]"
      ]
     },
     "execution_count": 6,
     "metadata": {},
     "output_type": "execute_result"
    }
   ],
   "source": [
    "%%sql sqlite://\n",
    "    \n",
    "SELECT s_id,c_id,s_score,\n",
    "row_number() OVER(ORDER BY s_score DESC) ranking\n",
    "FROM Score"
   ]
  },
  {
   "cell_type": "markdown",
   "metadata": {},
   "source": [
    "# -- 查询学生的总成绩并进行排名（不重点）"
   ]
  },
  {
   "cell_type": "code",
   "execution_count": 8,
   "metadata": {},
   "outputs": [
    {
     "name": "stdout",
     "output_type": "stream",
     "text": [
      "Done.\n"
     ]
    },
    {
     "data": {
      "text/html": [
       "<table>\n",
       "    <tr>\n",
       "        <th>s_id</th>\n",
       "        <th>sum_score</th>\n",
       "    </tr>\n",
       "    <tr>\n",
       "        <td>01</td>\n",
       "        <td>269</td>\n",
       "    </tr>\n",
       "    <tr>\n",
       "        <td>03</td>\n",
       "        <td>240</td>\n",
       "    </tr>\n",
       "    <tr>\n",
       "        <td>02</td>\n",
       "        <td>210</td>\n",
       "    </tr>\n",
       "    <tr>\n",
       "        <td>07</td>\n",
       "        <td>187</td>\n",
       "    </tr>\n",
       "    <tr>\n",
       "        <td>05</td>\n",
       "        <td>163</td>\n",
       "    </tr>\n",
       "    <tr>\n",
       "        <td>04</td>\n",
       "        <td>100</td>\n",
       "    </tr>\n",
       "    <tr>\n",
       "        <td>06</td>\n",
       "        <td>65</td>\n",
       "    </tr>\n",
       "</table>"
      ],
      "text/plain": [
       "[('01', 269),\n",
       " ('03', 240),\n",
       " ('02', 210),\n",
       " ('07', 187),\n",
       " ('05', 163),\n",
       " ('04', 100),\n",
       " ('06', 65)]"
      ]
     },
     "execution_count": 8,
     "metadata": {},
     "output_type": "execute_result"
    }
   ],
   "source": [
    "%%sql sqlite://\n",
    "    \n",
    "SELECT s_id,sum(s_score) sum_score\n",
    "FROM Score sc \n",
    "GROUP BY s_id\n",
    "ORDER BY sum(s_score)  DESC\n"
   ]
  },
  {
   "cell_type": "markdown",
   "metadata": {},
   "source": [
    "# 查询不同老师所教不同课程平均分从高到低显示(不重点)"
   ]
  },
  {
   "cell_type": "code",
   "execution_count": 9,
   "metadata": {},
   "outputs": [
    {
     "name": "stdout",
     "output_type": "stream",
     "text": [
      "Done.\n"
     ]
    },
    {
     "data": {
      "text/html": [
       "<table>\n",
       "    <tr>\n",
       "        <th>t_name</th>\n",
       "        <th>mean_score</th>\n",
       "    </tr>\n",
       "    <tr>\n",
       "        <td>李四</td>\n",
       "        <td>72.67</td>\n",
       "    </tr>\n",
       "    <tr>\n",
       "        <td>王五</td>\n",
       "        <td>68.5</td>\n",
       "    </tr>\n",
       "    <tr>\n",
       "        <td>张三</td>\n",
       "        <td>64.5</td>\n",
       "    </tr>\n",
       "</table>"
      ],
      "text/plain": [
       "[('李四', 72.67), ('王五', 68.5), ('张三', 64.5)]"
      ]
     },
     "execution_count": 9,
     "metadata": {},
     "output_type": "execute_result"
    }
   ],
   "source": [
    "%%sql sqlite://\n",
    "    \n",
    "SELECT t_name, round(avg(sc.s_score),2) mean_score\n",
    "FROM Teacher t \n",
    "INNER JOIN Course c \n",
    "ON t.t_id=c.c_id\n",
    "INNER JOIN Score sc \n",
    "ON sc.c_id=c.c_id\n",
    "GROUP BY t_name\n",
    "ORDER BY avg(sc.s_score) DESC"
   ]
  },
  {
   "cell_type": "markdown",
   "metadata": {},
   "source": [
    "# 查询所有课程的成绩第2名到第3名的学生信息及该课程成绩（重要 25类似）"
   ]
  },
  {
   "cell_type": "code",
   "execution_count": 10,
   "metadata": {},
   "outputs": [
    {
     "name": "stdout",
     "output_type": "stream",
     "text": [
      "Done.\n"
     ]
    },
    {
     "data": {
      "text/html": [
       "<table>\n",
       "    <tr>\n",
       "        <th>s_id</th>\n",
       "        <th>s_name</th>\n",
       "        <th>s_birth</th>\n",
       "        <th>s_sex</th>\n",
       "        <th>c_id</th>\n",
       "        <th>s_score</th>\n",
       "        <th>m</th>\n",
       "    </tr>\n",
       "    <tr>\n",
       "        <td>01</td>\n",
       "        <td>赵雷</td>\n",
       "        <td>1990-01-01</td>\n",
       "        <td>男</td>\n",
       "        <td>01</td>\n",
       "        <td>80</td>\n",
       "        <td>1</td>\n",
       "    </tr>\n",
       "    <tr>\n",
       "        <td>03</td>\n",
       "        <td>孙风</td>\n",
       "        <td>1990-05-20</td>\n",
       "        <td>男</td>\n",
       "        <td>01</td>\n",
       "        <td>80</td>\n",
       "        <td>2</td>\n",
       "    </tr>\n",
       "    <tr>\n",
       "        <td>05</td>\n",
       "        <td>周梅</td>\n",
       "        <td>1991-12-01</td>\n",
       "        <td>女</td>\n",
       "        <td>01</td>\n",
       "        <td>76</td>\n",
       "        <td>3</td>\n",
       "    </tr>\n",
       "    <tr>\n",
       "        <td>02</td>\n",
       "        <td>钱电</td>\n",
       "        <td>1990-12-21</td>\n",
       "        <td>男</td>\n",
       "        <td>01</td>\n",
       "        <td>70</td>\n",
       "        <td>4</td>\n",
       "    </tr>\n",
       "    <tr>\n",
       "        <td>04</td>\n",
       "        <td>李云</td>\n",
       "        <td>1990-08-06</td>\n",
       "        <td>男</td>\n",
       "        <td>01</td>\n",
       "        <td>50</td>\n",
       "        <td>5</td>\n",
       "    </tr>\n",
       "    <tr>\n",
       "        <td>06</td>\n",
       "        <td>吴兰</td>\n",
       "        <td>1992-03-01</td>\n",
       "        <td>女</td>\n",
       "        <td>01</td>\n",
       "        <td>31</td>\n",
       "        <td>6</td>\n",
       "    </tr>\n",
       "    <tr>\n",
       "        <td>01</td>\n",
       "        <td>赵雷</td>\n",
       "        <td>1990-01-01</td>\n",
       "        <td>男</td>\n",
       "        <td>02</td>\n",
       "        <td>90</td>\n",
       "        <td>1</td>\n",
       "    </tr>\n",
       "    <tr>\n",
       "        <td>07</td>\n",
       "        <td>郑竹</td>\n",
       "        <td>1989-07-01</td>\n",
       "        <td>女</td>\n",
       "        <td>02</td>\n",
       "        <td>89</td>\n",
       "        <td>2</td>\n",
       "    </tr>\n",
       "    <tr>\n",
       "        <td>05</td>\n",
       "        <td>周梅</td>\n",
       "        <td>1991-12-01</td>\n",
       "        <td>女</td>\n",
       "        <td>02</td>\n",
       "        <td>87</td>\n",
       "        <td>3</td>\n",
       "    </tr>\n",
       "    <tr>\n",
       "        <td>03</td>\n",
       "        <td>孙风</td>\n",
       "        <td>1990-05-20</td>\n",
       "        <td>男</td>\n",
       "        <td>02</td>\n",
       "        <td>80</td>\n",
       "        <td>4</td>\n",
       "    </tr>\n",
       "    <tr>\n",
       "        <td>02</td>\n",
       "        <td>钱电</td>\n",
       "        <td>1990-12-21</td>\n",
       "        <td>男</td>\n",
       "        <td>02</td>\n",
       "        <td>60</td>\n",
       "        <td>5</td>\n",
       "    </tr>\n",
       "    <tr>\n",
       "        <td>04</td>\n",
       "        <td>李云</td>\n",
       "        <td>1990-08-06</td>\n",
       "        <td>男</td>\n",
       "        <td>02</td>\n",
       "        <td>30</td>\n",
       "        <td>6</td>\n",
       "    </tr>\n",
       "    <tr>\n",
       "        <td>01</td>\n",
       "        <td>赵雷</td>\n",
       "        <td>1990-01-01</td>\n",
       "        <td>男</td>\n",
       "        <td>03</td>\n",
       "        <td>99</td>\n",
       "        <td>1</td>\n",
       "    </tr>\n",
       "    <tr>\n",
       "        <td>07</td>\n",
       "        <td>郑竹</td>\n",
       "        <td>1989-07-01</td>\n",
       "        <td>女</td>\n",
       "        <td>03</td>\n",
       "        <td>98</td>\n",
       "        <td>2</td>\n",
       "    </tr>\n",
       "    <tr>\n",
       "        <td>02</td>\n",
       "        <td>钱电</td>\n",
       "        <td>1990-12-21</td>\n",
       "        <td>男</td>\n",
       "        <td>03</td>\n",
       "        <td>80</td>\n",
       "        <td>3</td>\n",
       "    </tr>\n",
       "    <tr>\n",
       "        <td>03</td>\n",
       "        <td>孙风</td>\n",
       "        <td>1990-05-20</td>\n",
       "        <td>男</td>\n",
       "        <td>03</td>\n",
       "        <td>80</td>\n",
       "        <td>4</td>\n",
       "    </tr>\n",
       "    <tr>\n",
       "        <td>06</td>\n",
       "        <td>吴兰</td>\n",
       "        <td>1992-03-01</td>\n",
       "        <td>女</td>\n",
       "        <td>03</td>\n",
       "        <td>34</td>\n",
       "        <td>5</td>\n",
       "    </tr>\n",
       "    <tr>\n",
       "        <td>04</td>\n",
       "        <td>李云</td>\n",
       "        <td>1990-08-06</td>\n",
       "        <td>男</td>\n",
       "        <td>03</td>\n",
       "        <td>20</td>\n",
       "        <td>6</td>\n",
       "    </tr>\n",
       "</table>"
      ],
      "text/plain": [
       "[('01', '赵雷', '1990-01-01', '男', '01', 80, 1),\n",
       " ('03', '孙风', '1990-05-20', '男', '01', 80, 2),\n",
       " ('05', '周梅', '1991-12-01', '女', '01', 76, 3),\n",
       " ('02', '钱电', '1990-12-21', '男', '01', 70, 4),\n",
       " ('04', '李云', '1990-08-06', '男', '01', 50, 5),\n",
       " ('06', '吴兰', '1992-03-01', '女', '01', 31, 6),\n",
       " ('01', '赵雷', '1990-01-01', '男', '02', 90, 1),\n",
       " ('07', '郑竹', '1989-07-01', '女', '02', 89, 2),\n",
       " ('05', '周梅', '1991-12-01', '女', '02', 87, 3),\n",
       " ('03', '孙风', '1990-05-20', '男', '02', 80, 4),\n",
       " ('02', '钱电', '1990-12-21', '男', '02', 60, 5),\n",
       " ('04', '李云', '1990-08-06', '男', '02', 30, 6),\n",
       " ('01', '赵雷', '1990-01-01', '男', '03', 99, 1),\n",
       " ('07', '郑竹', '1989-07-01', '女', '03', 98, 2),\n",
       " ('02', '钱电', '1990-12-21', '男', '03', 80, 3),\n",
       " ('03', '孙风', '1990-05-20', '男', '03', 80, 4),\n",
       " ('06', '吴兰', '1992-03-01', '女', '03', 34, 5),\n",
       " ('04', '李云', '1990-08-06', '男', '03', 20, 6)]"
      ]
     },
     "execution_count": 10,
     "metadata": {},
     "output_type": "execute_result"
    }
   ],
   "source": [
    "%%sql sqlite://\n",
    "    \n",
    "SELECT st.*,c_id,s_score,\n",
    "row_number() OVER \n",
    "(\n",
    "    PARTITION BY c_id \n",
    "    ORDER BY s_score DESC\n",
    ") m\n",
    "FROM Score sc \n",
    "INNER JOIN Student st \n",
    "ON sc.s_id=st.s_id"
   ]
  },
  {
   "cell_type": "markdown",
   "metadata": {},
   "source": [
    "## `row_number`用法\n",
    "\n",
    "<font size=4>`row_number() over(partition by col1 order by col2)` 根据COL1分组可能会有多个组，每组组内根据COL2进行排序。每组内都有自动生成的序号，从1开始，有多少个分组就有多少个从1开始的序号</font>"
   ]
  },
  {
   "cell_type": "code",
   "execution_count": 11,
   "metadata": {},
   "outputs": [
    {
     "name": "stdout",
     "output_type": "stream",
     "text": [
      "Done.\n"
     ]
    },
    {
     "data": {
      "text/html": [
       "<table>\n",
       "    <tr>\n",
       "        <th>s_id</th>\n",
       "        <th>s_name</th>\n",
       "        <th>s_birth</th>\n",
       "        <th>s_sex</th>\n",
       "        <th>c_id</th>\n",
       "        <th>s_score</th>\n",
       "        <th>m</th>\n",
       "    </tr>\n",
       "    <tr>\n",
       "        <td>03</td>\n",
       "        <td>孙风</td>\n",
       "        <td>1990-05-20</td>\n",
       "        <td>男</td>\n",
       "        <td>01</td>\n",
       "        <td>80</td>\n",
       "        <td>2</td>\n",
       "    </tr>\n",
       "    <tr>\n",
       "        <td>05</td>\n",
       "        <td>周梅</td>\n",
       "        <td>1991-12-01</td>\n",
       "        <td>女</td>\n",
       "        <td>01</td>\n",
       "        <td>76</td>\n",
       "        <td>3</td>\n",
       "    </tr>\n",
       "    <tr>\n",
       "        <td>07</td>\n",
       "        <td>郑竹</td>\n",
       "        <td>1989-07-01</td>\n",
       "        <td>女</td>\n",
       "        <td>02</td>\n",
       "        <td>89</td>\n",
       "        <td>2</td>\n",
       "    </tr>\n",
       "    <tr>\n",
       "        <td>05</td>\n",
       "        <td>周梅</td>\n",
       "        <td>1991-12-01</td>\n",
       "        <td>女</td>\n",
       "        <td>02</td>\n",
       "        <td>87</td>\n",
       "        <td>3</td>\n",
       "    </tr>\n",
       "    <tr>\n",
       "        <td>07</td>\n",
       "        <td>郑竹</td>\n",
       "        <td>1989-07-01</td>\n",
       "        <td>女</td>\n",
       "        <td>03</td>\n",
       "        <td>98</td>\n",
       "        <td>2</td>\n",
       "    </tr>\n",
       "    <tr>\n",
       "        <td>02</td>\n",
       "        <td>钱电</td>\n",
       "        <td>1990-12-21</td>\n",
       "        <td>男</td>\n",
       "        <td>03</td>\n",
       "        <td>80</td>\n",
       "        <td>3</td>\n",
       "    </tr>\n",
       "</table>"
      ],
      "text/plain": [
       "[('03', '孙风', '1990-05-20', '男', '01', 80, 2),\n",
       " ('05', '周梅', '1991-12-01', '女', '01', 76, 3),\n",
       " ('07', '郑竹', '1989-07-01', '女', '02', 89, 2),\n",
       " ('05', '周梅', '1991-12-01', '女', '02', 87, 3),\n",
       " ('07', '郑竹', '1989-07-01', '女', '03', 98, 2),\n",
       " ('02', '钱电', '1990-12-21', '男', '03', 80, 3)]"
      ]
     },
     "execution_count": 11,
     "metadata": {},
     "output_type": "execute_result"
    }
   ],
   "source": [
    "%%sql sqlite://\n",
    "    \n",
    "SELECT *\n",
    "FROM \n",
    "(\n",
    "    SELECT st.*,c_id,s_score,\n",
    "    row_number() OVER \n",
    "    (\n",
    "        PARTITION BY c_id \n",
    "        ORDER BY s_score DESC\n",
    "    ) m\n",
    "    FROM Score sc \n",
    "    INNER JOIN Student st \n",
    "    ON sc.s_id=st.s_id\n",
    ") a \n",
    "WHERE m IN (2,3)"
   ]
  },
  {
   "cell_type": "markdown",
   "metadata": {},
   "source": [
    "# 使用分段[100-85],[85-70],[70-60],[<60]来统计各科成绩，分别统计各分数段人数：课程ID和课程名称(重点和18题类似)"
   ]
  },
  {
   "cell_type": "code",
   "execution_count": 5,
   "metadata": {},
   "outputs": [
    {
     "name": "stdout",
     "output_type": "stream",
     "text": [
      "Done.\n"
     ]
    },
    {
     "data": {
      "text/html": [
       "<table>\n",
       "    <tr>\n",
       "        <th>c_id</th>\n",
       "        <th>max_score</th>\n",
       "        <th>min_score</th>\n",
       "        <th>mean</th>\n",
       "        <th>不及格率</th>\n",
       "        <th>不及格人数</th>\n",
       "        <th>及格率</th>\n",
       "        <th>及格人数</th>\n",
       "        <th>良好率</th>\n",
       "        <th>良好人数</th>\n",
       "        <th>优秀率</th>\n",
       "        <th>优秀人数</th>\n",
       "    </tr>\n",
       "    <tr>\n",
       "        <td>01</td>\n",
       "        <td>80</td>\n",
       "        <td>31</td>\n",
       "        <td>64.5</td>\n",
       "        <td>0.33</td>\n",
       "        <td>2</td>\n",
       "        <td>0.0</td>\n",
       "        <td>0</td>\n",
       "        <td>1.0</td>\n",
       "        <td>4</td>\n",
       "        <td>0.0</td>\n",
       "        <td>0</td>\n",
       "    </tr>\n",
       "    <tr>\n",
       "        <td>02</td>\n",
       "        <td>90</td>\n",
       "        <td>30</td>\n",
       "        <td>72.67</td>\n",
       "        <td>0.17</td>\n",
       "        <td>1</td>\n",
       "        <td>0.17</td>\n",
       "        <td>1</td>\n",
       "        <td>1.0</td>\n",
       "        <td>1</td>\n",
       "        <td>0.5</td>\n",
       "        <td>3</td>\n",
       "    </tr>\n",
       "    <tr>\n",
       "        <td>03</td>\n",
       "        <td>99</td>\n",
       "        <td>20</td>\n",
       "        <td>68.5</td>\n",
       "        <td>0.33</td>\n",
       "        <td>2</td>\n",
       "        <td>0.0</td>\n",
       "        <td>0</td>\n",
       "        <td>1.0</td>\n",
       "        <td>2</td>\n",
       "        <td>0.33</td>\n",
       "        <td>2</td>\n",
       "    </tr>\n",
       "</table>"
      ],
      "text/plain": [
       "[('01', 80, 31, 64.5, 0.33, 2, 0.0, 0, 1.0, 4, 0.0, 0),\n",
       " ('02', 90, 30, 72.67, 0.17, 1, 0.17, 1, 1.0, 1, 0.5, 3),\n",
       " ('03', 99, 20, 68.5, 0.33, 2, 0.0, 0, 1.0, 2, 0.33, 2)]"
      ]
     },
     "execution_count": 5,
     "metadata": {},
     "output_type": "execute_result"
    }
   ],
   "source": [
    "%%sql sqlite://\n",
    "    \n",
    "SELECT c_id,max(s_score) max_score,\n",
    "min(s_score)min_score,round(avg(s_score),2) mean,\n",
    "round(avg(CASE WHEN s_score<60 THEN 1 ELSE 0 END),2)'不及格率',\n",
    "count(CASE WHEN s_score<60 THEN 1 ELSE NULL END)'不及格人数',\n",
    "round(avg(CASE WHEN s_score>=60 AND s_score<70 THEN 1 ELSE 0 END),2)'及格率',\n",
    "count(CASE WHEN s_score>=60 AND s_score<70 THEN 1 ELSE NULL END)'及格人数',\n",
    "round(avg(CASE WHEN s_score>=70 AND s_score<85 THEN 1 ELSE NULL END),2)'良好率',\n",
    "count(CASE WHEN s_score>=70 AND s_score<85 THEN 1 ELSE NULL END)'良好人数',\n",
    "round(avg(CASE WHEN s_score>=85 THEN 1 ELSE 0 END),2)'优秀率',\n",
    "count(CASE WHEN s_score>=85 THEN 1 ELSE NULL END)'优秀人数'\n",
    "FROM Score\n",
    "GROUP BY c_id"
   ]
  },
  {
   "cell_type": "markdown",
   "metadata": {},
   "source": [
    "# 查询学生平均成绩及其名次"
   ]
  },
  {
   "cell_type": "code",
   "execution_count": 13,
   "metadata": {},
   "outputs": [
    {
     "name": "stdout",
     "output_type": "stream",
     "text": [
      "Done.\n"
     ]
    },
    {
     "data": {
      "text/html": [
       "<table>\n",
       "    <tr>\n",
       "        <th>s_id</th>\n",
       "        <th>s_name</th>\n",
       "        <th>s_birth</th>\n",
       "        <th>s_sex</th>\n",
       "        <th>ranking</th>\n",
       "        <th>mean</th>\n",
       "    </tr>\n",
       "    <tr>\n",
       "        <td>07</td>\n",
       "        <td>郑竹</td>\n",
       "        <td>1989-07-01</td>\n",
       "        <td>女</td>\n",
       "        <td>1</td>\n",
       "        <td>93.5</td>\n",
       "    </tr>\n",
       "    <tr>\n",
       "        <td>01</td>\n",
       "        <td>赵雷</td>\n",
       "        <td>1990-01-01</td>\n",
       "        <td>男</td>\n",
       "        <td>2</td>\n",
       "        <td>89.67</td>\n",
       "    </tr>\n",
       "    <tr>\n",
       "        <td>05</td>\n",
       "        <td>周梅</td>\n",
       "        <td>1991-12-01</td>\n",
       "        <td>女</td>\n",
       "        <td>3</td>\n",
       "        <td>81.5</td>\n",
       "    </tr>\n",
       "    <tr>\n",
       "        <td>03</td>\n",
       "        <td>孙风</td>\n",
       "        <td>1990-05-20</td>\n",
       "        <td>男</td>\n",
       "        <td>4</td>\n",
       "        <td>80.0</td>\n",
       "    </tr>\n",
       "    <tr>\n",
       "        <td>02</td>\n",
       "        <td>钱电</td>\n",
       "        <td>1990-12-21</td>\n",
       "        <td>男</td>\n",
       "        <td>5</td>\n",
       "        <td>70.0</td>\n",
       "    </tr>\n",
       "    <tr>\n",
       "        <td>04</td>\n",
       "        <td>李云</td>\n",
       "        <td>1990-08-06</td>\n",
       "        <td>男</td>\n",
       "        <td>6</td>\n",
       "        <td>33.33</td>\n",
       "    </tr>\n",
       "    <tr>\n",
       "        <td>06</td>\n",
       "        <td>吴兰</td>\n",
       "        <td>1992-03-01</td>\n",
       "        <td>女</td>\n",
       "        <td>7</td>\n",
       "        <td>32.5</td>\n",
       "    </tr>\n",
       "</table>"
      ],
      "text/plain": [
       "[('07', '郑竹', '1989-07-01', '女', 1, 93.5),\n",
       " ('01', '赵雷', '1990-01-01', '男', 2, 89.67),\n",
       " ('05', '周梅', '1991-12-01', '女', 3, 81.5),\n",
       " ('03', '孙风', '1990-05-20', '男', 4, 80.0),\n",
       " ('02', '钱电', '1990-12-21', '男', 5, 70.0),\n",
       " ('04', '李云', '1990-08-06', '男', 6, 33.33),\n",
       " ('06', '吴兰', '1992-03-01', '女', 7, 32.5)]"
      ]
     },
     "execution_count": 13,
     "metadata": {},
     "output_type": "execute_result"
    }
   ],
   "source": [
    "%%sql sqlite://\n",
    "    \n",
    "SELECT st.*,\n",
    "row_number()OVER\n",
    "(\n",
    "    ORDER BY avg(sc.s_score) DESC\n",
    ") ranking,\n",
    "round(avg(sc.s_score),2) mean\n",
    "FROM Student st \n",
    "INNER JOIN Score sc \n",
    "ON st.s_id=sc.s_id\n",
    "GROUP BY st.s_id"
   ]
  },
  {
   "cell_type": "markdown",
   "metadata": {},
   "source": [
    "# 查询各科成绩前三名的记录（不考虑成绩并列情况）"
   ]
  },
  {
   "cell_type": "code",
   "execution_count": 14,
   "metadata": {},
   "outputs": [
    {
     "name": "stdout",
     "output_type": "stream",
     "text": [
      "Done.\n"
     ]
    },
    {
     "data": {
      "text/html": [
       "<table>\n",
       "    <tr>\n",
       "        <th>c_id</th>\n",
       "        <th>s_score</th>\n",
       "        <th>1st</th>\n",
       "        <th>2nd</th>\n",
       "        <th>3rd</th>\n",
       "    </tr>\n",
       "    <tr>\n",
       "        <td>01</td>\n",
       "        <td>80</td>\n",
       "        <td>80</td>\n",
       "        <td>None</td>\n",
       "        <td>None</td>\n",
       "    </tr>\n",
       "    <tr>\n",
       "        <td>01</td>\n",
       "        <td>80</td>\n",
       "        <td>None</td>\n",
       "        <td>80</td>\n",
       "        <td>None</td>\n",
       "    </tr>\n",
       "    <tr>\n",
       "        <td>01</td>\n",
       "        <td>76</td>\n",
       "        <td>None</td>\n",
       "        <td>None</td>\n",
       "        <td>76</td>\n",
       "    </tr>\n",
       "    <tr>\n",
       "        <td>02</td>\n",
       "        <td>90</td>\n",
       "        <td>90</td>\n",
       "        <td>None</td>\n",
       "        <td>None</td>\n",
       "    </tr>\n",
       "    <tr>\n",
       "        <td>02</td>\n",
       "        <td>89</td>\n",
       "        <td>None</td>\n",
       "        <td>89</td>\n",
       "        <td>None</td>\n",
       "    </tr>\n",
       "    <tr>\n",
       "        <td>02</td>\n",
       "        <td>87</td>\n",
       "        <td>None</td>\n",
       "        <td>None</td>\n",
       "        <td>87</td>\n",
       "    </tr>\n",
       "    <tr>\n",
       "        <td>03</td>\n",
       "        <td>99</td>\n",
       "        <td>99</td>\n",
       "        <td>None</td>\n",
       "        <td>None</td>\n",
       "    </tr>\n",
       "    <tr>\n",
       "        <td>03</td>\n",
       "        <td>98</td>\n",
       "        <td>None</td>\n",
       "        <td>98</td>\n",
       "        <td>None</td>\n",
       "    </tr>\n",
       "    <tr>\n",
       "        <td>03</td>\n",
       "        <td>80</td>\n",
       "        <td>None</td>\n",
       "        <td>None</td>\n",
       "        <td>80</td>\n",
       "    </tr>\n",
       "</table>"
      ],
      "text/plain": [
       "[('01', 80, 80, None, None),\n",
       " ('01', 80, None, 80, None),\n",
       " ('01', 76, None, None, 76),\n",
       " ('02', 90, 90, None, None),\n",
       " ('02', 89, None, 89, None),\n",
       " ('02', 87, None, None, 87),\n",
       " ('03', 99, 99, None, None),\n",
       " ('03', 98, None, 98, None),\n",
       " ('03', 80, None, None, 80)]"
      ]
     },
     "execution_count": 14,
     "metadata": {},
     "output_type": "execute_result"
    }
   ],
   "source": [
    "%%sql sqlite:// \n",
    "    \n",
    "SELECT c_id,s_score,\n",
    "(CASE WHEN m=1 THEN s_score ELSE NULL END) '1st',\n",
    "(CASE WHEN m=2 THEN s_score ELSE NULL END) '2nd',\n",
    "(CASE WHEN m=3 THEN s_score ELSE NULL END) '3rd'\n",
    "FROM\n",
    "(\n",
    "    SELECT st.*,c_id,s_score,\n",
    "    row_number() OVER\n",
    "    (\n",
    "        PARTITION BY c_id\n",
    "        ORDER BY s_score DESC\n",
    "    ) m\n",
    "    FROM Score sc \n",
    "    INNER JOIN Student st \n",
    "    ON sc.s_id=st.s_id\n",
    ") a \n",
    "WHERE m IN (1,2,3)"
   ]
  },
  {
   "cell_type": "markdown",
   "metadata": {},
   "source": [
    "<font size=4>$\\uparrow$错误答案<font>\n",
    "    \n",
    "<font size=4>$\\downarrow$正确答案<font>\n",
    "    \n"
   ]
  },
  {
   "cell_type": "code",
   "execution_count": 15,
   "metadata": {},
   "outputs": [
    {
     "name": "stdout",
     "output_type": "stream",
     "text": [
      "Done.\n"
     ]
    },
    {
     "data": {
      "text/html": [
       "<table>\n",
       "    <tr>\n",
       "        <th>c_id</th>\n",
       "        <th>s_score</th>\n",
       "        <th>1st</th>\n",
       "        <th>2nd</th>\n",
       "        <th>3rd</th>\n",
       "    </tr>\n",
       "    <tr>\n",
       "        <td>01</td>\n",
       "        <td>76</td>\n",
       "        <td>80</td>\n",
       "        <td>80</td>\n",
       "        <td>76</td>\n",
       "    </tr>\n",
       "    <tr>\n",
       "        <td>02</td>\n",
       "        <td>87</td>\n",
       "        <td>90</td>\n",
       "        <td>89</td>\n",
       "        <td>87</td>\n",
       "    </tr>\n",
       "    <tr>\n",
       "        <td>03</td>\n",
       "        <td>80</td>\n",
       "        <td>99</td>\n",
       "        <td>98</td>\n",
       "        <td>80</td>\n",
       "    </tr>\n",
       "</table>"
      ],
      "text/plain": [
       "[('01', 76, 80, 80, 76), ('02', 87, 90, 89, 87), ('03', 80, 99, 98, 80)]"
      ]
     },
     "execution_count": 15,
     "metadata": {},
     "output_type": "execute_result"
    }
   ],
   "source": [
    "%%sql sqlite://\n",
    "    \n",
    "SELECT c_id,s_score,\n",
    "max(CASE WHEN m=1 THEN s_score ELSE NULL END) '1st',\n",
    "max(CASE WHEN m=2 THEN s_score ELSE NULL END) '2nd',\n",
    "max(CASE WHEN m=3 THEN s_score ELSE NULL END) '3rd'\n",
    "FROM\n",
    "(\n",
    "    SELECT st.*,c_id,s_score,\n",
    "    row_number() OVER\n",
    "    (\n",
    "        PARTITION BY c_id\n",
    "        ORDER BY s_score DESC\n",
    "    ) m\n",
    "    FROM Score sc \n",
    "    INNER JOIN Student st \n",
    "    ON sc.s_id=st.s_id\n",
    ") a \n",
    "WHERE m IN (1,2,3)\n",
    "GROUP BY c_id"
   ]
  },
  {
   "cell_type": "code",
   "execution_count": 6,
   "metadata": {},
   "outputs": [
    {
     "name": "stdout",
     "output_type": "stream",
     "text": [
      "Done.\n"
     ]
    },
    {
     "data": {
      "text/html": [
       "<table>\n",
       "    <tr>\n",
       "        <th>s_id</th>\n",
       "        <th>s_name</th>\n",
       "        <th>s_birth</th>\n",
       "        <th>s_sex</th>\n",
       "        <th>c_id</th>\n",
       "        <th>s_score</th>\n",
       "        <th>m</th>\n",
       "    </tr>\n",
       "    <tr>\n",
       "        <td>01</td>\n",
       "        <td>赵雷</td>\n",
       "        <td>1990-01-01</td>\n",
       "        <td>男</td>\n",
       "        <td>01</td>\n",
       "        <td>80</td>\n",
       "        <td>1</td>\n",
       "    </tr>\n",
       "    <tr>\n",
       "        <td>03</td>\n",
       "        <td>孙风</td>\n",
       "        <td>1990-05-20</td>\n",
       "        <td>男</td>\n",
       "        <td>01</td>\n",
       "        <td>80</td>\n",
       "        <td>2</td>\n",
       "    </tr>\n",
       "    <tr>\n",
       "        <td>05</td>\n",
       "        <td>周梅</td>\n",
       "        <td>1991-12-01</td>\n",
       "        <td>女</td>\n",
       "        <td>01</td>\n",
       "        <td>76</td>\n",
       "        <td>3</td>\n",
       "    </tr>\n",
       "    <tr>\n",
       "        <td>02</td>\n",
       "        <td>钱电</td>\n",
       "        <td>1990-12-21</td>\n",
       "        <td>男</td>\n",
       "        <td>01</td>\n",
       "        <td>70</td>\n",
       "        <td>4</td>\n",
       "    </tr>\n",
       "    <tr>\n",
       "        <td>04</td>\n",
       "        <td>李云</td>\n",
       "        <td>1990-08-06</td>\n",
       "        <td>男</td>\n",
       "        <td>01</td>\n",
       "        <td>50</td>\n",
       "        <td>5</td>\n",
       "    </tr>\n",
       "    <tr>\n",
       "        <td>06</td>\n",
       "        <td>吴兰</td>\n",
       "        <td>1992-03-01</td>\n",
       "        <td>女</td>\n",
       "        <td>01</td>\n",
       "        <td>31</td>\n",
       "        <td>6</td>\n",
       "    </tr>\n",
       "    <tr>\n",
       "        <td>01</td>\n",
       "        <td>赵雷</td>\n",
       "        <td>1990-01-01</td>\n",
       "        <td>男</td>\n",
       "        <td>02</td>\n",
       "        <td>90</td>\n",
       "        <td>1</td>\n",
       "    </tr>\n",
       "    <tr>\n",
       "        <td>07</td>\n",
       "        <td>郑竹</td>\n",
       "        <td>1989-07-01</td>\n",
       "        <td>女</td>\n",
       "        <td>02</td>\n",
       "        <td>89</td>\n",
       "        <td>2</td>\n",
       "    </tr>\n",
       "    <tr>\n",
       "        <td>05</td>\n",
       "        <td>周梅</td>\n",
       "        <td>1991-12-01</td>\n",
       "        <td>女</td>\n",
       "        <td>02</td>\n",
       "        <td>87</td>\n",
       "        <td>3</td>\n",
       "    </tr>\n",
       "    <tr>\n",
       "        <td>03</td>\n",
       "        <td>孙风</td>\n",
       "        <td>1990-05-20</td>\n",
       "        <td>男</td>\n",
       "        <td>02</td>\n",
       "        <td>80</td>\n",
       "        <td>4</td>\n",
       "    </tr>\n",
       "    <tr>\n",
       "        <td>02</td>\n",
       "        <td>钱电</td>\n",
       "        <td>1990-12-21</td>\n",
       "        <td>男</td>\n",
       "        <td>02</td>\n",
       "        <td>60</td>\n",
       "        <td>5</td>\n",
       "    </tr>\n",
       "    <tr>\n",
       "        <td>04</td>\n",
       "        <td>李云</td>\n",
       "        <td>1990-08-06</td>\n",
       "        <td>男</td>\n",
       "        <td>02</td>\n",
       "        <td>30</td>\n",
       "        <td>6</td>\n",
       "    </tr>\n",
       "    <tr>\n",
       "        <td>01</td>\n",
       "        <td>赵雷</td>\n",
       "        <td>1990-01-01</td>\n",
       "        <td>男</td>\n",
       "        <td>03</td>\n",
       "        <td>99</td>\n",
       "        <td>1</td>\n",
       "    </tr>\n",
       "    <tr>\n",
       "        <td>07</td>\n",
       "        <td>郑竹</td>\n",
       "        <td>1989-07-01</td>\n",
       "        <td>女</td>\n",
       "        <td>03</td>\n",
       "        <td>98</td>\n",
       "        <td>2</td>\n",
       "    </tr>\n",
       "    <tr>\n",
       "        <td>02</td>\n",
       "        <td>钱电</td>\n",
       "        <td>1990-12-21</td>\n",
       "        <td>男</td>\n",
       "        <td>03</td>\n",
       "        <td>80</td>\n",
       "        <td>3</td>\n",
       "    </tr>\n",
       "    <tr>\n",
       "        <td>03</td>\n",
       "        <td>孙风</td>\n",
       "        <td>1990-05-20</td>\n",
       "        <td>男</td>\n",
       "        <td>03</td>\n",
       "        <td>80</td>\n",
       "        <td>4</td>\n",
       "    </tr>\n",
       "    <tr>\n",
       "        <td>06</td>\n",
       "        <td>吴兰</td>\n",
       "        <td>1992-03-01</td>\n",
       "        <td>女</td>\n",
       "        <td>03</td>\n",
       "        <td>34</td>\n",
       "        <td>5</td>\n",
       "    </tr>\n",
       "    <tr>\n",
       "        <td>04</td>\n",
       "        <td>李云</td>\n",
       "        <td>1990-08-06</td>\n",
       "        <td>男</td>\n",
       "        <td>03</td>\n",
       "        <td>20</td>\n",
       "        <td>6</td>\n",
       "    </tr>\n",
       "</table>"
      ],
      "text/plain": [
       "[('01', '赵雷', '1990-01-01', '男', '01', 80, 1),\n",
       " ('03', '孙风', '1990-05-20', '男', '01', 80, 2),\n",
       " ('05', '周梅', '1991-12-01', '女', '01', 76, 3),\n",
       " ('02', '钱电', '1990-12-21', '男', '01', 70, 4),\n",
       " ('04', '李云', '1990-08-06', '男', '01', 50, 5),\n",
       " ('06', '吴兰', '1992-03-01', '女', '01', 31, 6),\n",
       " ('01', '赵雷', '1990-01-01', '男', '02', 90, 1),\n",
       " ('07', '郑竹', '1989-07-01', '女', '02', 89, 2),\n",
       " ('05', '周梅', '1991-12-01', '女', '02', 87, 3),\n",
       " ('03', '孙风', '1990-05-20', '男', '02', 80, 4),\n",
       " ('02', '钱电', '1990-12-21', '男', '02', 60, 5),\n",
       " ('04', '李云', '1990-08-06', '男', '02', 30, 6),\n",
       " ('01', '赵雷', '1990-01-01', '男', '03', 99, 1),\n",
       " ('07', '郑竹', '1989-07-01', '女', '03', 98, 2),\n",
       " ('02', '钱电', '1990-12-21', '男', '03', 80, 3),\n",
       " ('03', '孙风', '1990-05-20', '男', '03', 80, 4),\n",
       " ('06', '吴兰', '1992-03-01', '女', '03', 34, 5),\n",
       " ('04', '李云', '1990-08-06', '男', '03', 20, 6)]"
      ]
     },
     "execution_count": 6,
     "metadata": {},
     "output_type": "execute_result"
    }
   ],
   "source": [
    "%%sql sqlite://\n",
    "    \n",
    "SELECT st.*,c_id,s_score,\n",
    "row_number() OVER\n",
    "(\n",
    "    PARTITION BY c_id\n",
    "    ORDER BY s_score DESC\n",
    ") m\n",
    "FROM Score sc \n",
    "INNER JOIN Student st \n",
    "ON sc.s_id=st.s_id"
   ]
  },
  {
   "cell_type": "markdown",
   "metadata": {},
   "source": [
    "# 查询每门课程被选修的学生数"
   ]
  },
  {
   "cell_type": "code",
   "execution_count": 16,
   "metadata": {},
   "outputs": [
    {
     "name": "stdout",
     "output_type": "stream",
     "text": [
      "Done.\n"
     ]
    },
    {
     "data": {
      "text/html": [
       "<table>\n",
       "    <tr>\n",
       "        <th>c_id</th>\n",
       "        <th>count(c_id)</th>\n",
       "    </tr>\n",
       "    <tr>\n",
       "        <td>01</td>\n",
       "        <td>6</td>\n",
       "    </tr>\n",
       "    <tr>\n",
       "        <td>02</td>\n",
       "        <td>6</td>\n",
       "    </tr>\n",
       "    <tr>\n",
       "        <td>03</td>\n",
       "        <td>6</td>\n",
       "    </tr>\n",
       "</table>"
      ],
      "text/plain": [
       "[('01', 6), ('02', 6), ('03', 6)]"
      ]
     },
     "execution_count": 16,
     "metadata": {},
     "output_type": "execute_result"
    }
   ],
   "source": [
    "%%sql sqlite://\n",
    "    \n",
    "SELECT c_id, count(c_id)\n",
    "FROM Score\n",
    "GROUP BY c_id"
   ]
  },
  {
   "cell_type": "markdown",
   "metadata": {},
   "source": [
    "# 查询出只有两门课程的全部学生的学号和姓名(不重点)"
   ]
  },
  {
   "cell_type": "code",
   "execution_count": 19,
   "metadata": {},
   "outputs": [
    {
     "name": "stdout",
     "output_type": "stream",
     "text": [
      "Done.\n"
     ]
    },
    {
     "data": {
      "text/html": [
       "<table>\n",
       "    <tr>\n",
       "        <th>s_id</th>\n",
       "        <th>s_name</th>\n",
       "        <th>s_birth</th>\n",
       "        <th>s_sex</th>\n",
       "        <th>cnt</th>\n",
       "    </tr>\n",
       "    <tr>\n",
       "        <td>05</td>\n",
       "        <td>周梅</td>\n",
       "        <td>1991-12-01</td>\n",
       "        <td>女</td>\n",
       "        <td>2</td>\n",
       "    </tr>\n",
       "    <tr>\n",
       "        <td>06</td>\n",
       "        <td>吴兰</td>\n",
       "        <td>1992-03-01</td>\n",
       "        <td>女</td>\n",
       "        <td>2</td>\n",
       "    </tr>\n",
       "    <tr>\n",
       "        <td>07</td>\n",
       "        <td>郑竹</td>\n",
       "        <td>1989-07-01</td>\n",
       "        <td>女</td>\n",
       "        <td>2</td>\n",
       "    </tr>\n",
       "</table>"
      ],
      "text/plain": [
       "[('05', '周梅', '1991-12-01', '女', 2),\n",
       " ('06', '吴兰', '1992-03-01', '女', 2),\n",
       " ('07', '郑竹', '1989-07-01', '女', 2)]"
      ]
     },
     "execution_count": 19,
     "metadata": {},
     "output_type": "execute_result"
    }
   ],
   "source": [
    "%%sql sqlite://\n",
    "    \n",
    "SELECT st.*,count(sc.c_id) cnt\n",
    "FROM Student st \n",
    "INNER JOIN Score sc \n",
    "ON st.s_id=sc.s_id\n",
    "GROUP BY st.s_id\n",
    "HAVING count(sc.c_id)=2"
   ]
  },
  {
   "cell_type": "markdown",
   "metadata": {},
   "source": [
    "# 查询名字中含有\"风\"字的学生信息（不重点）"
   ]
  },
  {
   "cell_type": "code",
   "execution_count": 20,
   "metadata": {},
   "outputs": [
    {
     "name": "stdout",
     "output_type": "stream",
     "text": [
      "Done.\n"
     ]
    },
    {
     "data": {
      "text/html": [
       "<table>\n",
       "    <tr>\n",
       "        <th>s_name</th>\n",
       "    </tr>\n",
       "    <tr>\n",
       "        <td>孙风</td>\n",
       "    </tr>\n",
       "</table>"
      ],
      "text/plain": [
       "[('孙风',)]"
      ]
     },
     "execution_count": 20,
     "metadata": {},
     "output_type": "execute_result"
    }
   ],
   "source": [
    "%%sql sqlite://\n",
    "    \n",
    "SELECT s_name\n",
    "FROM Student\n",
    "WHERE s_name LIKE '%风%'"
   ]
  },
  {
   "cell_type": "markdown",
   "metadata": {},
   "source": [
    "# 查询1990年出生的学生名单（重点year）"
   ]
  },
  {
   "cell_type": "code",
   "execution_count": 22,
   "metadata": {},
   "outputs": [
    {
     "name": "stdout",
     "output_type": "stream",
     "text": [
      "Done.\n"
     ]
    },
    {
     "data": {
      "text/html": [
       "<table>\n",
       "    <tr>\n",
       "        <th>s_id</th>\n",
       "        <th>s_name</th>\n",
       "        <th>s_birth</th>\n",
       "        <th>s_sex</th>\n",
       "    </tr>\n",
       "    <tr>\n",
       "        <td>01</td>\n",
       "        <td>赵雷</td>\n",
       "        <td>1990-01-01</td>\n",
       "        <td>男</td>\n",
       "    </tr>\n",
       "    <tr>\n",
       "        <td>02</td>\n",
       "        <td>钱电</td>\n",
       "        <td>1990-12-21</td>\n",
       "        <td>男</td>\n",
       "    </tr>\n",
       "    <tr>\n",
       "        <td>03</td>\n",
       "        <td>孙风</td>\n",
       "        <td>1990-05-20</td>\n",
       "        <td>男</td>\n",
       "    </tr>\n",
       "    <tr>\n",
       "        <td>04</td>\n",
       "        <td>李云</td>\n",
       "        <td>1990-08-06</td>\n",
       "        <td>男</td>\n",
       "    </tr>\n",
       "    <tr>\n",
       "        <td>08</td>\n",
       "        <td>王菊</td>\n",
       "        <td>1990-01-20</td>\n",
       "        <td>女</td>\n",
       "    </tr>\n",
       "</table>"
      ],
      "text/plain": [
       "[('01', '赵雷', '1990-01-01', '男'),\n",
       " ('02', '钱电', '1990-12-21', '男'),\n",
       " ('03', '孙风', '1990-05-20', '男'),\n",
       " ('04', '李云', '1990-08-06', '男'),\n",
       " ('08', '王菊', '1990-01-20', '女')]"
      ]
     },
     "execution_count": 22,
     "metadata": {},
     "output_type": "execute_result"
    }
   ],
   "source": [
    "%%sql sqlite://\n",
    "    \n",
    "SELECT *\n",
    "FROM Student\n",
    "WHERE s_birth LIKE '1990%'"
   ]
  },
  {
   "cell_type": "markdown",
   "metadata": {},
   "source": [
    "# 查询平均成绩大于等于85的所有学生的学号、姓名和平均成绩（不重要）"
   ]
  },
  {
   "cell_type": "code",
   "execution_count": 23,
   "metadata": {},
   "outputs": [
    {
     "name": "stdout",
     "output_type": "stream",
     "text": [
      "Done.\n"
     ]
    },
    {
     "data": {
      "text/html": [
       "<table>\n",
       "    <tr>\n",
       "        <th>s_id</th>\n",
       "        <th>s_name</th>\n",
       "        <th>s_birth</th>\n",
       "        <th>s_sex</th>\n",
       "        <th>s_score</th>\n",
       "    </tr>\n",
       "    <tr>\n",
       "        <td>01</td>\n",
       "        <td>赵雷</td>\n",
       "        <td>1990-01-01</td>\n",
       "        <td>男</td>\n",
       "        <td>80</td>\n",
       "    </tr>\n",
       "    <tr>\n",
       "        <td>07</td>\n",
       "        <td>郑竹</td>\n",
       "        <td>1989-07-01</td>\n",
       "        <td>女</td>\n",
       "        <td>89</td>\n",
       "    </tr>\n",
       "</table>"
      ],
      "text/plain": [
       "[('01', '赵雷', '1990-01-01', '男', 80), ('07', '郑竹', '1989-07-01', '女', 89)]"
      ]
     },
     "execution_count": 23,
     "metadata": {},
     "output_type": "execute_result"
    }
   ],
   "source": [
    "%%sql sqlite://\n",
    "    \n",
    "SELECT st.*,sc.s_score\n",
    "FROM Student st \n",
    "INNER JOIN Score sc \n",
    "ON st.s_id=sc.s_id\n",
    "GROUP BY st.s_id\n",
    "HAVING avg(sc.s_score)>=85"
   ]
  },
  {
   "cell_type": "markdown",
   "metadata": {},
   "source": [
    "# -- 查询每门课程的平均成绩，结果按平均成绩升序排序，平均成绩相同时，按课程号降序排列"
   ]
  },
  {
   "cell_type": "code",
   "execution_count": 4,
   "metadata": {},
   "outputs": [
    {
     "name": "stdout",
     "output_type": "stream",
     "text": [
      "Done.\n"
     ]
    },
    {
     "data": {
      "text/html": [
       "<table>\n",
       "    <tr>\n",
       "        <th>c_id</th>\n",
       "        <th>mean</th>\n",
       "    </tr>\n",
       "    <tr>\n",
       "        <td>01</td>\n",
       "        <td>64.5</td>\n",
       "    </tr>\n",
       "    <tr>\n",
       "        <td>03</td>\n",
       "        <td>68.5</td>\n",
       "    </tr>\n",
       "    <tr>\n",
       "        <td>02</td>\n",
       "        <td>72.67</td>\n",
       "    </tr>\n",
       "</table>"
      ],
      "text/plain": [
       "[('01', 64.5), ('03', 68.5), ('02', 72.67)]"
      ]
     },
     "execution_count": 4,
     "metadata": {},
     "output_type": "execute_result"
    }
   ],
   "source": [
    "%%sql sqlite://\n",
    "    \n",
    "SELECT c_id,round(avg(s_score),2) mean\n",
    "FROM Score\n",
    "GROUP BY c_id\n",
    "ORDER BY avg(s_score), c_id DESC"
   ]
  },
  {
   "cell_type": "markdown",
   "metadata": {},
   "source": [
    "# 查询课程名称为\"数学\"，且分数低于60的学生姓名和分数"
   ]
  },
  {
   "cell_type": "code",
   "execution_count": 5,
   "metadata": {},
   "outputs": [
    {
     "name": "stdout",
     "output_type": "stream",
     "text": [
      "Done.\n"
     ]
    },
    {
     "data": {
      "text/html": [
       "<table>\n",
       "    <tr>\n",
       "        <th>c_name</th>\n",
       "        <th>s_id</th>\n",
       "        <th>s_name</th>\n",
       "        <th>s_birth</th>\n",
       "        <th>s_sex</th>\n",
       "        <th>s_score</th>\n",
       "    </tr>\n",
       "    <tr>\n",
       "        <td>数学</td>\n",
       "        <td>04</td>\n",
       "        <td>李云</td>\n",
       "        <td>1990-08-06</td>\n",
       "        <td>男</td>\n",
       "        <td>30</td>\n",
       "    </tr>\n",
       "</table>"
      ],
      "text/plain": [
       "[('数学', '04', '李云', '1990-08-06', '男', 30)]"
      ]
     },
     "execution_count": 5,
     "metadata": {},
     "output_type": "execute_result"
    }
   ],
   "source": [
    "%%sql sqlite://\n",
    "    \n",
    "SELECT c_name,st.*,sc.s_score\n",
    "FROM Course c \n",
    "INNER JOIN Score sc \n",
    "ON c.c_id=sc.c_id\n",
    "INNER JOIN Student st \n",
    "ON sc.s_id=st.s_id\n",
    "WHERE c_name='数学'\n",
    "AND sc.s_score<60"
   ]
  },
  {
   "cell_type": "markdown",
   "metadata": {},
   "source": [
    "# 查询所有学生的课程及分数情况"
   ]
  },
  {
   "cell_type": "code",
   "execution_count": 6,
   "metadata": {},
   "outputs": [
    {
     "name": "stdout",
     "output_type": "stream",
     "text": [
      "Done.\n"
     ]
    },
    {
     "data": {
      "text/html": [
       "<table>\n",
       "    <tr>\n",
       "        <th>s_id</th>\n",
       "        <th>chinese</th>\n",
       "        <th>math</th>\n",
       "        <th>english</th>\n",
       "    </tr>\n",
       "    <tr>\n",
       "        <td>01</td>\n",
       "        <td>80</td>\n",
       "        <td>90</td>\n",
       "        <td>99</td>\n",
       "    </tr>\n",
       "    <tr>\n",
       "        <td>02</td>\n",
       "        <td>70</td>\n",
       "        <td>60</td>\n",
       "        <td>80</td>\n",
       "    </tr>\n",
       "    <tr>\n",
       "        <td>03</td>\n",
       "        <td>80</td>\n",
       "        <td>80</td>\n",
       "        <td>80</td>\n",
       "    </tr>\n",
       "    <tr>\n",
       "        <td>04</td>\n",
       "        <td>50</td>\n",
       "        <td>30</td>\n",
       "        <td>20</td>\n",
       "    </tr>\n",
       "    <tr>\n",
       "        <td>05</td>\n",
       "        <td>76</td>\n",
       "        <td>87</td>\n",
       "        <td>None</td>\n",
       "    </tr>\n",
       "    <tr>\n",
       "        <td>06</td>\n",
       "        <td>31</td>\n",
       "        <td>None</td>\n",
       "        <td>34</td>\n",
       "    </tr>\n",
       "    <tr>\n",
       "        <td>07</td>\n",
       "        <td>None</td>\n",
       "        <td>89</td>\n",
       "        <td>98</td>\n",
       "    </tr>\n",
       "</table>"
      ],
      "text/plain": [
       "[('01', 80, 90, 99),\n",
       " ('02', 70, 60, 80),\n",
       " ('03', 80, 80, 80),\n",
       " ('04', 50, 30, 20),\n",
       " ('05', 76, 87, None),\n",
       " ('06', 31, None, 34),\n",
       " ('07', None, 89, 98)]"
      ]
     },
     "execution_count": 6,
     "metadata": {},
     "output_type": "execute_result"
    }
   ],
   "source": [
    "%%sql sqlite://\n",
    "    \n",
    "SELECT s_id,\n",
    "max(CASE WHEN c_name='语文' THEN s_score ELSE NULL END)'chinese',\n",
    "max(CASE WHEN c_name='数学' THEN s_score ELSE NULL END)'math',\n",
    "max(CASE WHEN c_name='英语' THEN s_score ELSE NULL END) english\n",
    "FROM Score sc \n",
    "INNER JOIN Course c \n",
    "ON sc.c_id=c.c_id\n",
    "GROUP BY sc.s_id"
   ]
  },
  {
   "cell_type": "markdown",
   "metadata": {},
   "source": [
    "# 查询任何一门课程成绩在70分以上的姓名、课程名称和分数"
   ]
  },
  {
   "cell_type": "code",
   "execution_count": 7,
   "metadata": {},
   "outputs": [
    {
     "name": "stdout",
     "output_type": "stream",
     "text": [
      "Done.\n"
     ]
    },
    {
     "data": {
      "text/html": [
       "<table>\n",
       "    <tr>\n",
       "        <th>s_id</th>\n",
       "        <th>s_name</th>\n",
       "        <th>s_birth</th>\n",
       "        <th>s_sex</th>\n",
       "        <th>c_name</th>\n",
       "        <th>s_score</th>\n",
       "    </tr>\n",
       "    <tr>\n",
       "        <td>01</td>\n",
       "        <td>赵雷</td>\n",
       "        <td>1990-01-01</td>\n",
       "        <td>男</td>\n",
       "        <td>语文</td>\n",
       "        <td>80</td>\n",
       "    </tr>\n",
       "    <tr>\n",
       "        <td>01</td>\n",
       "        <td>赵雷</td>\n",
       "        <td>1990-01-01</td>\n",
       "        <td>男</td>\n",
       "        <td>数学</td>\n",
       "        <td>90</td>\n",
       "    </tr>\n",
       "    <tr>\n",
       "        <td>01</td>\n",
       "        <td>赵雷</td>\n",
       "        <td>1990-01-01</td>\n",
       "        <td>男</td>\n",
       "        <td>英语</td>\n",
       "        <td>99</td>\n",
       "    </tr>\n",
       "    <tr>\n",
       "        <td>02</td>\n",
       "        <td>钱电</td>\n",
       "        <td>1990-12-21</td>\n",
       "        <td>男</td>\n",
       "        <td>英语</td>\n",
       "        <td>80</td>\n",
       "    </tr>\n",
       "    <tr>\n",
       "        <td>03</td>\n",
       "        <td>孙风</td>\n",
       "        <td>1990-05-20</td>\n",
       "        <td>男</td>\n",
       "        <td>语文</td>\n",
       "        <td>80</td>\n",
       "    </tr>\n",
       "    <tr>\n",
       "        <td>03</td>\n",
       "        <td>孙风</td>\n",
       "        <td>1990-05-20</td>\n",
       "        <td>男</td>\n",
       "        <td>数学</td>\n",
       "        <td>80</td>\n",
       "    </tr>\n",
       "    <tr>\n",
       "        <td>03</td>\n",
       "        <td>孙风</td>\n",
       "        <td>1990-05-20</td>\n",
       "        <td>男</td>\n",
       "        <td>英语</td>\n",
       "        <td>80</td>\n",
       "    </tr>\n",
       "    <tr>\n",
       "        <td>05</td>\n",
       "        <td>周梅</td>\n",
       "        <td>1991-12-01</td>\n",
       "        <td>女</td>\n",
       "        <td>语文</td>\n",
       "        <td>76</td>\n",
       "    </tr>\n",
       "    <tr>\n",
       "        <td>05</td>\n",
       "        <td>周梅</td>\n",
       "        <td>1991-12-01</td>\n",
       "        <td>女</td>\n",
       "        <td>数学</td>\n",
       "        <td>87</td>\n",
       "    </tr>\n",
       "    <tr>\n",
       "        <td>07</td>\n",
       "        <td>郑竹</td>\n",
       "        <td>1989-07-01</td>\n",
       "        <td>女</td>\n",
       "        <td>数学</td>\n",
       "        <td>89</td>\n",
       "    </tr>\n",
       "    <tr>\n",
       "        <td>07</td>\n",
       "        <td>郑竹</td>\n",
       "        <td>1989-07-01</td>\n",
       "        <td>女</td>\n",
       "        <td>英语</td>\n",
       "        <td>98</td>\n",
       "    </tr>\n",
       "</table>"
      ],
      "text/plain": [
       "[('01', '赵雷', '1990-01-01', '男', '语文', 80),\n",
       " ('01', '赵雷', '1990-01-01', '男', '数学', 90),\n",
       " ('01', '赵雷', '1990-01-01', '男', '英语', 99),\n",
       " ('02', '钱电', '1990-12-21', '男', '英语', 80),\n",
       " ('03', '孙风', '1990-05-20', '男', '语文', 80),\n",
       " ('03', '孙风', '1990-05-20', '男', '数学', 80),\n",
       " ('03', '孙风', '1990-05-20', '男', '英语', 80),\n",
       " ('05', '周梅', '1991-12-01', '女', '语文', 76),\n",
       " ('05', '周梅', '1991-12-01', '女', '数学', 87),\n",
       " ('07', '郑竹', '1989-07-01', '女', '数学', 89),\n",
       " ('07', '郑竹', '1989-07-01', '女', '英语', 98)]"
      ]
     },
     "execution_count": 7,
     "metadata": {},
     "output_type": "execute_result"
    }
   ],
   "source": [
    "%%sql sqlite://\n",
    "    \n",
    "SELECT st.*,c.c_name,sc.s_score\n",
    "FROM Student st \n",
    "INNER JOIN Score sc \n",
    "ON st.s_id=sc.s_id\n",
    "INNER JOIN Course c \n",
    "ON sc.c_id=c.c_id\n",
    "WHERE sc.s_score>70"
   ]
  },
  {
   "cell_type": "markdown",
   "metadata": {},
   "source": [
    "# 查询不及格的课程并按课程号从大到小排列\n"
   ]
  },
  {
   "cell_type": "code",
   "execution_count": 8,
   "metadata": {},
   "outputs": [
    {
     "name": "stdout",
     "output_type": "stream",
     "text": [
      "Done.\n"
     ]
    },
    {
     "data": {
      "text/html": [
       "<table>\n",
       "    <tr>\n",
       "        <th>c_id</th>\n",
       "        <th>c_name</th>\n",
       "        <th>t_id</th>\n",
       "        <th>s_score</th>\n",
       "        <th>s_id</th>\n",
       "    </tr>\n",
       "    <tr>\n",
       "        <td>01</td>\n",
       "        <td>语文</td>\n",
       "        <td>02</td>\n",
       "        <td>50</td>\n",
       "        <td>04</td>\n",
       "    </tr>\n",
       "    <tr>\n",
       "        <td>01</td>\n",
       "        <td>语文</td>\n",
       "        <td>02</td>\n",
       "        <td>31</td>\n",
       "        <td>06</td>\n",
       "    </tr>\n",
       "    <tr>\n",
       "        <td>02</td>\n",
       "        <td>数学</td>\n",
       "        <td>01</td>\n",
       "        <td>30</td>\n",
       "        <td>04</td>\n",
       "    </tr>\n",
       "    <tr>\n",
       "        <td>03</td>\n",
       "        <td>英语</td>\n",
       "        <td>03</td>\n",
       "        <td>20</td>\n",
       "        <td>04</td>\n",
       "    </tr>\n",
       "    <tr>\n",
       "        <td>03</td>\n",
       "        <td>英语</td>\n",
       "        <td>03</td>\n",
       "        <td>34</td>\n",
       "        <td>06</td>\n",
       "    </tr>\n",
       "</table>"
      ],
      "text/plain": [
       "[('01', '语文', '02', 50, '04'),\n",
       " ('01', '语文', '02', 31, '06'),\n",
       " ('02', '数学', '01', 30, '04'),\n",
       " ('03', '英语', '03', 20, '04'),\n",
       " ('03', '英语', '03', 34, '06')]"
      ]
     },
     "execution_count": 8,
     "metadata": {},
     "output_type": "execute_result"
    }
   ],
   "source": [
    "%%sql sqlite://\n",
    "    \n",
    "SELECT c.*,sc.s_score,sc.s_id\n",
    "FROM Course c \n",
    "INNER JOIN Score sc \n",
    "ON c.c_id=sc.c_id\n",
    "WHERE sc.s_score<60\n",
    "ORDER BY c.c_id"
   ]
  },
  {
   "cell_type": "markdown",
   "metadata": {},
   "source": [
    "# 查询课程编号为03且课程成绩在80分以上的学生的学号和姓名"
   ]
  },
  {
   "cell_type": "code",
   "execution_count": 9,
   "metadata": {},
   "outputs": [
    {
     "name": "stdout",
     "output_type": "stream",
     "text": [
      "Done.\n"
     ]
    },
    {
     "data": {
      "text/html": [
       "<table>\n",
       "    <tr>\n",
       "        <th>s_id</th>\n",
       "        <th>s_name</th>\n",
       "        <th>s_birth</th>\n",
       "        <th>s_sex</th>\n",
       "        <th>s_score</th>\n",
       "        <th>c_id</th>\n",
       "    </tr>\n",
       "    <tr>\n",
       "        <td>01</td>\n",
       "        <td>赵雷</td>\n",
       "        <td>1990-01-01</td>\n",
       "        <td>男</td>\n",
       "        <td>99</td>\n",
       "        <td>03</td>\n",
       "    </tr>\n",
       "    <tr>\n",
       "        <td>07</td>\n",
       "        <td>郑竹</td>\n",
       "        <td>1989-07-01</td>\n",
       "        <td>女</td>\n",
       "        <td>98</td>\n",
       "        <td>03</td>\n",
       "    </tr>\n",
       "</table>"
      ],
      "text/plain": [
       "[('01', '赵雷', '1990-01-01', '男', 99, '03'),\n",
       " ('07', '郑竹', '1989-07-01', '女', 98, '03')]"
      ]
     },
     "execution_count": 9,
     "metadata": {},
     "output_type": "execute_result"
    }
   ],
   "source": [
    "%%sql sqlite://\n",
    "    \n",
    "SELECT st.*,sc.s_score,sc.c_id\n",
    "FROM Student st \n",
    "INNER JOIN Score sc \n",
    "ON st.s_id=sc.s_id\n",
    "WHERE sc.c_id='03'\n",
    "AND sc.s_score>80"
   ]
  },
  {
   "cell_type": "markdown",
   "metadata": {},
   "source": [
    "# 求每门课程的学生人数"
   ]
  },
  {
   "cell_type": "code",
   "execution_count": 10,
   "metadata": {},
   "outputs": [
    {
     "name": "stdout",
     "output_type": "stream",
     "text": [
      "Done.\n"
     ]
    },
    {
     "data": {
      "text/html": [
       "<table>\n",
       "    <tr>\n",
       "        <th>c_id</th>\n",
       "        <th>count(sc.c_id)</th>\n",
       "    </tr>\n",
       "    <tr>\n",
       "        <td>01</td>\n",
       "        <td>6</td>\n",
       "    </tr>\n",
       "    <tr>\n",
       "        <td>02</td>\n",
       "        <td>6</td>\n",
       "    </tr>\n",
       "    <tr>\n",
       "        <td>03</td>\n",
       "        <td>6</td>\n",
       "    </tr>\n",
       "</table>"
      ],
      "text/plain": [
       "[('01', 6), ('02', 6), ('03', 6)]"
      ]
     },
     "execution_count": 10,
     "metadata": {},
     "output_type": "execute_result"
    }
   ],
   "source": [
    "%%sql sqlite://\n",
    "\n",
    "SELECT sc.c_id,count(sc.c_id)\n",
    "FROM Score sc \n",
    "GROUP BY sc.c_id"
   ]
  },
  {
   "cell_type": "markdown",
   "metadata": {},
   "source": [
    "# 查询选修“张三”老师所授课程的学生中成绩最高的学生姓名及其成绩"
   ]
  },
  {
   "cell_type": "code",
   "execution_count": 11,
   "metadata": {},
   "outputs": [
    {
     "name": "stdout",
     "output_type": "stream",
     "text": [
      "Done.\n"
     ]
    },
    {
     "data": {
      "text/html": [
       "<table>\n",
       "    <tr>\n",
       "        <th>s_id</th>\n",
       "        <th>c_id</th>\n",
       "        <th>s_score</th>\n",
       "        <th>t_name</th>\n",
       "    </tr>\n",
       "    <tr>\n",
       "        <td>01</td>\n",
       "        <td>02</td>\n",
       "        <td>90</td>\n",
       "        <td>张三</td>\n",
       "    </tr>\n",
       "</table>"
      ],
      "text/plain": [
       "[('01', '02', 90, '张三')]"
      ]
     },
     "execution_count": 11,
     "metadata": {},
     "output_type": "execute_result"
    }
   ],
   "source": [
    "%%sql sqlite://\n",
    "    \n",
    "SELECT  sc.*,t.t_name\n",
    "FROM Score sc \n",
    "INNER JOIN Course c \n",
    "ON sc.c_id=c.c_id\n",
    "INNER JOIN Teacher t \n",
    "ON c.t_id=t.t_id\n",
    "WHERE t_name='张三'\n",
    "ORDER BY sc.s_score DESC\n",
    "LIMIT 1"
   ]
  },
  {
   "cell_type": "markdown",
   "metadata": {},
   "source": [
    "# 查询不同课程成绩相同的学生的学生编号、课程编号、学生成绩"
   ]
  },
  {
   "cell_type": "code",
   "execution_count": 13,
   "metadata": {},
   "outputs": [
    {
     "name": "stdout",
     "output_type": "stream",
     "text": [
      "Done.\n"
     ]
    },
    {
     "data": {
      "text/html": [
       "<table>\n",
       "    <tr>\n",
       "        <th>s_id</th>\n",
       "        <th>c_id</th>\n",
       "        <th>s_score</th>\n",
       "    </tr>\n",
       "    <tr>\n",
       "        <td>03</td>\n",
       "        <td>01</td>\n",
       "        <td>80</td>\n",
       "    </tr>\n",
       "    <tr>\n",
       "        <td>03</td>\n",
       "        <td>02</td>\n",
       "        <td>80</td>\n",
       "    </tr>\n",
       "    <tr>\n",
       "        <td>03</td>\n",
       "        <td>03</td>\n",
       "        <td>80</td>\n",
       "    </tr>\n",
       "</table>"
      ],
      "text/plain": [
       "[('03', '01', 80), ('03', '02', 80), ('03', '03', 80)]"
      ]
     },
     "execution_count": 13,
     "metadata": {},
     "output_type": "execute_result"
    }
   ],
   "source": [
    "%%sql sqlite://\n",
    "    \n",
    "SELECT DISTINCT a.s_id,a.c_id,a.s_score\n",
    "FROM Score a \n",
    "INNER JOIN Score b \n",
    "ON a.s_id=b.s_id\n",
    "WHERE a.s_score=b.s_score\n",
    "AND a.c_id!=b.c_id"
   ]
  },
  {
   "cell_type": "markdown",
   "metadata": {},
   "source": [
    "# 查询每门功成绩最好的前两名"
   ]
  },
  {
   "cell_type": "code",
   "execution_count": 14,
   "metadata": {},
   "outputs": [
    {
     "name": "stdout",
     "output_type": "stream",
     "text": [
      "Done.\n"
     ]
    },
    {
     "data": {
      "text/html": [
       "<table>\n",
       "    <tr>\n",
       "        <th>c_id</th>\n",
       "        <th>s_score</th>\n",
       "        <th>1st</th>\n",
       "        <th>2nd</th>\n",
       "    </tr>\n",
       "    <tr>\n",
       "        <td>01</td>\n",
       "        <td>80</td>\n",
       "        <td>80</td>\n",
       "        <td>80</td>\n",
       "    </tr>\n",
       "    <tr>\n",
       "        <td>02</td>\n",
       "        <td>89</td>\n",
       "        <td>90</td>\n",
       "        <td>89</td>\n",
       "    </tr>\n",
       "    <tr>\n",
       "        <td>03</td>\n",
       "        <td>98</td>\n",
       "        <td>99</td>\n",
       "        <td>98</td>\n",
       "    </tr>\n",
       "</table>"
      ],
      "text/plain": [
       "[('01', 80, 80, 80), ('02', 89, 90, 89), ('03', 98, 99, 98)]"
      ]
     },
     "execution_count": 14,
     "metadata": {},
     "output_type": "execute_result"
    }
   ],
   "source": [
    "%%sql sqlite://\n",
    "    \n",
    "SELECT c_id,s_score,\n",
    "max(CASE WHEN m=1 THEN s_score ELSE NULL END) '1st',\n",
    "max(CASE WHEN m=2 THEN s_score ELSE NULL END) '2nd'\n",
    "FROM\n",
    "(\n",
    "    SELECT st.*,c_id,s_score,\n",
    "    row_number() OVER\n",
    "    (\n",
    "        PARTITION BY c_id\n",
    "        ORDER BY s_score DESC\n",
    "    ) m\n",
    "    FROM Score sc \n",
    "    INNER JOIN Student st \n",
    "    ON sc.s_id=st.s_id\n",
    ") a \n",
    "WHERE m IN (1,2,3)\n",
    "GROUP BY c_id"
   ]
  },
  {
   "cell_type": "markdown",
   "metadata": {},
   "source": [
    "# 统计每门课程的学生选修人数（超过5人的课程才统计）。要求输出课程号和选修人数，查询结果按人数降序排列，若人数相同，按课程号升序排列"
   ]
  },
  {
   "cell_type": "code",
   "execution_count": 16,
   "metadata": {},
   "outputs": [
    {
     "name": "stdout",
     "output_type": "stream",
     "text": [
      "Done.\n"
     ]
    },
    {
     "data": {
      "text/html": [
       "<table>\n",
       "    <tr>\n",
       "        <th>c_id</th>\n",
       "        <th>count(c_id)</th>\n",
       "    </tr>\n",
       "    <tr>\n",
       "        <td>01</td>\n",
       "        <td>6</td>\n",
       "    </tr>\n",
       "    <tr>\n",
       "        <td>02</td>\n",
       "        <td>6</td>\n",
       "    </tr>\n",
       "    <tr>\n",
       "        <td>03</td>\n",
       "        <td>6</td>\n",
       "    </tr>\n",
       "</table>"
      ],
      "text/plain": [
       "[('01', 6), ('02', 6), ('03', 6)]"
      ]
     },
     "execution_count": 16,
     "metadata": {},
     "output_type": "execute_result"
    }
   ],
   "source": [
    "%%sql sqlite://\n",
    "    \n",
    "SELECT c_id,count(c_id)\n",
    "FROM Score\n",
    "GROUP BY(c_id)\n",
    "ORDER BY count(c_id) DESC,c_id"
   ]
  },
  {
   "cell_type": "markdown",
   "metadata": {},
   "source": [
    "# 检索至少选修两门课程的学生学号"
   ]
  },
  {
   "cell_type": "code",
   "execution_count": 17,
   "metadata": {},
   "outputs": [
    {
     "name": "stdout",
     "output_type": "stream",
     "text": [
      "Done.\n"
     ]
    },
    {
     "data": {
      "text/html": [
       "<table>\n",
       "    <tr>\n",
       "        <th>s_id</th>\n",
       "        <th>count(c_id)</th>\n",
       "    </tr>\n",
       "    <tr>\n",
       "        <td>01</td>\n",
       "        <td>3</td>\n",
       "    </tr>\n",
       "    <tr>\n",
       "        <td>02</td>\n",
       "        <td>3</td>\n",
       "    </tr>\n",
       "    <tr>\n",
       "        <td>03</td>\n",
       "        <td>3</td>\n",
       "    </tr>\n",
       "    <tr>\n",
       "        <td>04</td>\n",
       "        <td>3</td>\n",
       "    </tr>\n",
       "    <tr>\n",
       "        <td>05</td>\n",
       "        <td>2</td>\n",
       "    </tr>\n",
       "    <tr>\n",
       "        <td>06</td>\n",
       "        <td>2</td>\n",
       "    </tr>\n",
       "    <tr>\n",
       "        <td>07</td>\n",
       "        <td>2</td>\n",
       "    </tr>\n",
       "</table>"
      ],
      "text/plain": [
       "[('01', 3), ('02', 3), ('03', 3), ('04', 3), ('05', 2), ('06', 2), ('07', 2)]"
      ]
     },
     "execution_count": 17,
     "metadata": {},
     "output_type": "execute_result"
    }
   ],
   "source": [
    "%%sql sqlite://\n",
    "    \n",
    "SELECT s_id,count(c_id)\n",
    "FROM Score\n",
    "GROUP BY s_id\n",
    "HAVING count(c_id)>=2"
   ]
  },
  {
   "cell_type": "markdown",
   "metadata": {},
   "source": [
    "# 查询选修了全部课程的学生信息"
   ]
  },
  {
   "cell_type": "code",
   "execution_count": 18,
   "metadata": {},
   "outputs": [
    {
     "name": "stdout",
     "output_type": "stream",
     "text": [
      "Done.\n"
     ]
    },
    {
     "data": {
      "text/html": [
       "<table>\n",
       "    <tr>\n",
       "        <th>s_id</th>\n",
       "        <th>count(c_id)</th>\n",
       "    </tr>\n",
       "    <tr>\n",
       "        <td>01</td>\n",
       "        <td>3</td>\n",
       "    </tr>\n",
       "    <tr>\n",
       "        <td>02</td>\n",
       "        <td>3</td>\n",
       "    </tr>\n",
       "    <tr>\n",
       "        <td>03</td>\n",
       "        <td>3</td>\n",
       "    </tr>\n",
       "    <tr>\n",
       "        <td>04</td>\n",
       "        <td>3</td>\n",
       "    </tr>\n",
       "</table>"
      ],
      "text/plain": [
       "[('01', 3), ('02', 3), ('03', 3), ('04', 3)]"
      ]
     },
     "execution_count": 18,
     "metadata": {},
     "output_type": "execute_result"
    }
   ],
   "source": [
    "%%sql sqlite://\n",
    "    \n",
    "SELECT s_id,count(c_id)\n",
    "FROM Score\n",
    "GROUP BY s_id\n",
    "HAVING count(c_id)=\n",
    "(\n",
    "    SELECT count(*)\n",
    "    FROM Course\n",
    ")\n"
   ]
  },
  {
   "cell_type": "markdown",
   "metadata": {},
   "source": [
    "# 查询没学过“张三”老师讲授的任一门课程的学生姓名"
   ]
  },
  {
   "cell_type": "code",
   "execution_count": 19,
   "metadata": {},
   "outputs": [
    {
     "name": "stdout",
     "output_type": "stream",
     "text": [
      "Done.\n"
     ]
    },
    {
     "data": {
      "text/html": [
       "<table>\n",
       "    <tr>\n",
       "        <th>s_id</th>\n",
       "        <th>s_name</th>\n",
       "        <th>s_birth</th>\n",
       "        <th>s_sex</th>\n",
       "    </tr>\n",
       "    <tr>\n",
       "        <td>06</td>\n",
       "        <td>吴兰</td>\n",
       "        <td>1992-03-01</td>\n",
       "        <td>女</td>\n",
       "    </tr>\n",
       "    <tr>\n",
       "        <td>08</td>\n",
       "        <td>王菊</td>\n",
       "        <td>1990-01-20</td>\n",
       "        <td>女</td>\n",
       "    </tr>\n",
       "</table>"
      ],
      "text/plain": [
       "[('06', '吴兰', '1992-03-01', '女'), ('08', '王菊', '1990-01-20', '女')]"
      ]
     },
     "execution_count": 19,
     "metadata": {},
     "output_type": "execute_result"
    }
   ],
   "source": [
    "%%sql sqlite://\n",
    "    \n",
    "SELECT st.*\n",
    "FROM Student st \n",
    "WHERE st.s_id NOT IN\n",
    "(\n",
    "    SELECT s_id\n",
    "    FROM Score sc\n",
    "    INNER JOIN Course c \n",
    "    ON sc.c_id=c.c_id\n",
    "    INNER JOIN Teacher t \n",
    "    ON c.t_id=t.t_id\n",
    "    WHERE t.t_name='张三'\n",
    ")"
   ]
  },
  {
   "cell_type": "code",
   "execution_count": 4,
   "metadata": {},
   "outputs": [
    {
     "name": "stdout",
     "output_type": "stream",
     "text": [
      "(sqlite3.OperationalError) no such function: datediff\n",
      "[SQL: select datediff(s_birth)\n",
      "from student]\n",
      "(Background on this error at: http://sqlalche.me/e/e3q8)\n"
     ]
    }
   ],
   "source": [
    "%%sql sqlite://\n",
    "    \n",
    "select datediff(s_birth)\n",
    "from student"
   ]
  },
  {
   "cell_type": "code",
   "execution_count": null,
   "metadata": {},
   "outputs": [],
   "source": []
  },
  {
   "cell_type": "code",
   "execution_count": null,
   "metadata": {},
   "outputs": [],
   "source": []
  },
  {
   "cell_type": "code",
   "execution_count": null,
   "metadata": {},
   "outputs": [],
   "source": []
  },
  {
   "cell_type": "code",
   "execution_count": null,
   "metadata": {},
   "outputs": [],
   "source": []
  },
  {
   "cell_type": "code",
   "execution_count": null,
   "metadata": {},
   "outputs": [],
   "source": []
  },
  {
   "cell_type": "code",
   "execution_count": null,
   "metadata": {},
   "outputs": [],
   "source": []
  }
 ],
 "metadata": {
  "kernelspec": {
   "display_name": "Python 3",
   "language": "python",
   "name": "python3"
  },
  "language_info": {
   "codemirror_mode": {
    "name": "ipython",
    "version": 3
   },
   "file_extension": ".py",
   "mimetype": "text/x-python",
   "name": "python",
   "nbconvert_exporter": "python",
   "pygments_lexer": "ipython3",
   "version": "3.7.4"
  }
 },
 "nbformat": 4,
 "nbformat_minor": 4
}
